{
  "nbformat": 4,
  "nbformat_minor": 0,
  "metadata": {
    "colab": {
      "provenance": []
    },
    "kernelspec": {
      "name": "python3",
      "display_name": "Python 3"
    },
    "language_info": {
      "name": "python"
    }
  },
  "cells": [
    {
      "cell_type": "markdown",
      "source": [
        "Membaca dan Menampilkan Data | 1"
      ],
      "metadata": {
        "id": "ewEcO8fojTt-"
      }
    },
    {
      "cell_type": "code",
      "execution_count": 1,
      "metadata": {
        "colab": {
          "base_uri": "https://localhost:8080/"
        },
        "id": "0jZeTpJOEPsZ",
        "outputId": "57e30215-37e2-4daa-fb9b-211b15d2a567"
      },
      "outputs": [
        {
          "output_type": "stream",
          "name": "stdout",
          "text": [
            "  ID_Customer Jenis_kelamin  umur  membership_program using_reward  \\\n",
            "0   1005-CTMP     Perempuan    41                  36           No   \n",
            "1   1007-STSJ     Laki-laki    27                  36          Yes   \n",
            "2   1012-NCGH     Laki-laki    45                  36           No   \n",
            "3   1014-WWBN     Perempuan    33                  12           No   \n",
            "4   1024-HYUA     Perempuan    38                  12           No   \n",
            "\n",
            "      pembayaran Subscribe_brochure  harga_per_bulan  jumlah_harga_langganan  \\\n",
            "0           Cash                 No            10000                  360000   \n",
            "1  Bank Transfer              Email            10000                  360000   \n",
            "2           Cash                 No            10000                  360000   \n",
            "3  Bank Transfer                Yes            10000                  120000   \n",
            "4           Cash                 No            10000                  120000   \n",
            "\n",
            "  churn  \n",
            "0   Yes  \n",
            "1   Yes  \n",
            "2    No  \n",
            "3    No  \n",
            "4    No  \n"
          ]
        }
      ],
      "source": [
        "#meng-import library pandas, library ini dapat kita gunakan untuk membaca data dalam format xlsx ataupun csv\n",
        "import pandas as pd\n",
        "pd.set_option('display.max_column', 20)\n",
        "\n",
        "#men-load file churn_analysis_train.xlsx sebagai pandas data frame untuk mempermudah proses pengolahan data\n",
        "df = pd.read_excel('https://storage.googleapis.com/dqlab-dataset/cth_churn_analysis_train.xlsx')\n",
        "\n",
        "#perintah untuk menampilkan 5 data pertama\n",
        "print(df.head(5))"
      ]
    },
    {
      "cell_type": "markdown",
      "source": [
        "Menghapus kolom ID_Customer dan Resampling |  2"
      ],
      "metadata": {
        "id": "gH8y9VpBjabh"
      }
    },
    {
      "cell_type": "code",
      "source": [
        "#Kode program sebelumnya\n",
        "import pandas as pd\n",
        "pd.set_option('display.max_column', 20)\n",
        "\n",
        "df = pd.read_excel('https://storage.googleapis.com/dqlab-dataset/cth_churn_analysis_train.xlsx')\n",
        "\n",
        "#menghilangkan kolom 'ID_Customer' dari data frame dikarenakan kolom ini tidak relevan untuk dijadikan input dalam tugas klasifikasi (ID customer tidak mempengaruhi apakah customer akan lanjut berlangganan atau tidak\n",
        "df.drop('ID_Customer', axis=1, inplace=True)\n",
        "print(df['churn'].value_counts())"
      ],
      "metadata": {
        "colab": {
          "base_uri": "https://localhost:8080/"
        },
        "id": "8_mIwApHjzv4",
        "outputId": "846689dd-0551-43f1-b3ad-2a1e205204ba"
      },
      "execution_count": 2,
      "outputs": [
        {
          "output_type": "stream",
          "name": "stdout",
          "text": [
            "churn\n",
            "Yes    262\n",
            "No     237\n",
            "Name: count, dtype: int64\n"
          ]
        }
      ]
    },
    {
      "cell_type": "markdown",
      "source": [
        "Memisahkan Kolom churn sebagai y | 3"
      ],
      "metadata": {
        "id": "KDKPJhy6j5Z5"
      }
    },
    {
      "cell_type": "code",
      "source": [
        "#Kode program sebelumnya\n",
        "import pandas as pd\n",
        "pd.set_option('display.max_column', 20)\n",
        "\n",
        "df = pd.read_excel('https://storage.googleapis.com/dqlab-dataset/cth_churn_analysis_train.xlsx')\n",
        "df.drop('ID_Customer', axis=1, inplace=True)\n",
        "\n",
        "#menyimpan kolom 'churn' sebagai list ke dalam variabel y\n",
        "y = df.pop('churn').to_list()\n",
        "\n",
        "#mengubah nilai 'Yes' menjadi 1 dan nilai 'No' menjadi 0 agar sesuai dengan format yang sebelumnya telah kita bahas\n",
        "y = [1 if label == 'Yes' else 0 for label in y]\n",
        "print(df.head())"
      ],
      "metadata": {
        "colab": {
          "base_uri": "https://localhost:8080/"
        },
        "id": "sJA7muR4kiLT",
        "outputId": "6f48097f-5bdf-4102-b604-74a4748d538a"
      },
      "execution_count": 3,
      "outputs": [
        {
          "output_type": "stream",
          "name": "stdout",
          "text": [
            "  Jenis_kelamin  umur  membership_program using_reward     pembayaran  \\\n",
            "0     Perempuan    41                  36           No           Cash   \n",
            "1     Laki-laki    27                  36          Yes  Bank Transfer   \n",
            "2     Laki-laki    45                  36           No           Cash   \n",
            "3     Perempuan    33                  12           No  Bank Transfer   \n",
            "4     Perempuan    38                  12           No           Cash   \n",
            "\n",
            "  Subscribe_brochure  harga_per_bulan  jumlah_harga_langganan  \n",
            "0                 No            10000                  360000  \n",
            "1              Email            10000                  360000  \n",
            "2                 No            10000                  360000  \n",
            "3                Yes            10000                  120000  \n",
            "4                 No            10000                  120000  \n"
          ]
        }
      ]
    },
    {
      "cell_type": "markdown",
      "source": [
        "Tipe Data dan Statistik Deskriptif Setiap Kolom | 4"
      ],
      "metadata": {
        "id": "ro08R_lmknX1"
      }
    },
    {
      "cell_type": "code",
      "source": [
        "#Kode program sebelumnya\n",
        "import pandas as pd\n",
        "pd.set_option('display.max_column', 20)\n",
        "\n",
        "df = pd.read_excel('https://storage.googleapis.com/dqlab-dataset/cth_churn_analysis_train.xlsx')\n",
        "df.drop('ID_Customer', axis=1, inplace=True)\n",
        "\n",
        "y = df.pop('churn').to_list()\n",
        "y = [1 if label == 'Yes' else 0 for label in y]\n",
        "\n",
        "#memeriksa tipe data dari setiap kolom\n",
        "print('Tipe data setiap kolom:')\n",
        "print('-----------------------')\n",
        "df.info()\n",
        "\n",
        "#lakukan pengecekan untuk kolom dengan tipe data 'object' (kategorikal)\n",
        "print('\\nKolom dengan tipe data object (kategorikal):')\n",
        "print('--------------------------------------------')\n",
        "for col in df.select_dtypes(include=['object']):\n",
        "\tprint(df[col].value_counts())\n",
        "\tprint(\"===============================\")\n",
        "\n",
        "#statistik deskriptif dari setiap kolom\n",
        "print('\\nStatistik deskriptif dari setiap kolom:')\n",
        "print('---------------------------------------')\n",
        "print(df.describe())"
      ],
      "metadata": {
        "colab": {
          "base_uri": "https://localhost:8080/"
        },
        "id": "BHt_YVTsktKg",
        "outputId": "699898ab-df0b-4255-9c62-b0567e56b13b"
      },
      "execution_count": 4,
      "outputs": [
        {
          "output_type": "stream",
          "name": "stdout",
          "text": [
            "Tipe data setiap kolom:\n",
            "-----------------------\n",
            "<class 'pandas.core.frame.DataFrame'>\n",
            "RangeIndex: 499 entries, 0 to 498\n",
            "Data columns (total 8 columns):\n",
            " #   Column                  Non-Null Count  Dtype \n",
            "---  ------                  --------------  ----- \n",
            " 0   Jenis_kelamin           499 non-null    object\n",
            " 1   umur                    499 non-null    int64 \n",
            " 2   membership_program      499 non-null    int64 \n",
            " 3   using_reward            499 non-null    object\n",
            " 4   pembayaran              499 non-null    object\n",
            " 5   Subscribe_brochure      499 non-null    object\n",
            " 6   harga_per_bulan         499 non-null    int64 \n",
            " 7   jumlah_harga_langganan  499 non-null    int64 \n",
            "dtypes: int64(4), object(4)\n",
            "memory usage: 31.3+ KB\n",
            "\n",
            "Kolom dengan tipe data object (kategorikal):\n",
            "--------------------------------------------\n",
            "Jenis_kelamin\n",
            "Laki-laki    263\n",
            "Perempuan    236\n",
            "Name: count, dtype: int64\n",
            "===============================\n",
            "using_reward\n",
            "No     261\n",
            "Yes    238\n",
            "Name: count, dtype: int64\n",
            "===============================\n",
            "pembayaran\n",
            "Bank Transfer    195\n",
            "Cash             156\n",
            "Credit Card      148\n",
            "Name: count, dtype: int64\n",
            "===============================\n",
            "Subscribe_brochure\n",
            "Yes      172\n",
            "Email    167\n",
            "No       160\n",
            "Name: count, dtype: int64\n",
            "===============================\n",
            "\n",
            "Statistik deskriptif dari setiap kolom:\n",
            "---------------------------------------\n",
            "             umur  membership_program  harga_per_bulan  jumlah_harga_langganan\n",
            "count  499.000000          499.000000            499.0              499.000000\n",
            "mean    34.981964           19.719439          10000.0           197194.388778\n",
            "std      6.056103           11.470297              0.0           114702.970206\n",
            "min     25.000000            6.000000          10000.0            60000.000000\n",
            "25%     30.000000           12.000000          10000.0           120000.000000\n",
            "50%     35.000000           24.000000          10000.0           240000.000000\n",
            "75%     40.000000           36.000000          10000.0           360000.000000\n",
            "max     45.000000           36.000000          10000.0           360000.000000\n"
          ]
        }
      ]
    },
    {
      "cell_type": "markdown",
      "source": [
        "Membuang Kolom yang Tidak Diperlukan | 5"
      ],
      "metadata": {
        "id": "Av_xUXV_lKIc"
      }
    },
    {
      "cell_type": "code",
      "source": [
        "#Kode program sebelumnya\n",
        "import pandas as pd\n",
        "pd.set_option('display.max_column', 20)\n",
        "\n",
        "df = pd.read_excel('https://storage.googleapis.com/dqlab-dataset/cth_churn_analysis_train.xlsx')\n",
        "df.drop('ID_Customer', axis=1, inplace=True)\n",
        "\n",
        "y = df.pop('churn').to_list()\n",
        "y = [1 if label == 'Yes' else 0 for label in y]\n",
        "\n",
        "#membuang kolom 'harga_per_bulan'\n",
        "df.drop('harga_per_bulan', axis=1, inplace=True)\n",
        "\n",
        "#membuang kolom 'jumlah_harga_langganan'\n",
        "df.drop('jumlah_harga_langganan', axis=1, inplace=True)\n",
        "df.info()"
      ],
      "metadata": {
        "colab": {
          "base_uri": "https://localhost:8080/"
        },
        "id": "jZJDWr4llQxf",
        "outputId": "9225bdcc-c601-44f4-f2be-66c394152f85"
      },
      "execution_count": 5,
      "outputs": [
        {
          "output_type": "stream",
          "name": "stdout",
          "text": [
            "<class 'pandas.core.frame.DataFrame'>\n",
            "RangeIndex: 499 entries, 0 to 498\n",
            "Data columns (total 6 columns):\n",
            " #   Column              Non-Null Count  Dtype \n",
            "---  ------              --------------  ----- \n",
            " 0   Jenis_kelamin       499 non-null    object\n",
            " 1   umur                499 non-null    int64 \n",
            " 2   membership_program  499 non-null    int64 \n",
            " 3   using_reward        499 non-null    object\n",
            " 4   pembayaran          499 non-null    object\n",
            " 5   Subscribe_brochure  499 non-null    object\n",
            "dtypes: int64(2), object(4)\n",
            "memory usage: 23.5+ KB\n"
          ]
        }
      ]
    },
    {
      "cell_type": "markdown",
      "source": [
        "Mengubah Data Kategorik Menjadi Data Numerik | 6"
      ],
      "metadata": {
        "id": "tRzRrWqJmhsO"
      }
    },
    {
      "cell_type": "code",
      "source": [
        "#Kode program sebelumnya\n",
        "import pandas as pd\n",
        "pd.set_option('display.max_column', 20)\n",
        "\n",
        "df = pd.read_excel('https://storage.googleapis.com/dqlab-dataset/cth_churn_analysis_train.xlsx')\n",
        "df.drop('ID_Customer', axis=1, inplace=True)\n",
        "df.drop('harga_per_bulan', axis=1, inplace=True)\n",
        "df.drop('jumlah_harga_langganan', axis=1, inplace=True)\n",
        "\n",
        "y = df.pop('churn').to_list()\n",
        "y = [1 if label == 'Yes' else 0 for label in y]\n",
        "\n",
        "#mengimport class LabelEncoder untuk mengubah atribut dengan dua kemungkinan nilai (binary)\n",
        "from sklearn.preprocessing import LabelEncoder\n",
        "\n",
        "#menyiapkan dictionary untuk menyimpan seluruh LabelEncoder untuk setiap atribut kategorikal yang bersifat biner\n",
        "labelers = {}\n",
        "\n",
        "#untuk setiap kolom dengan tipe data 'object' (kategorikal)\n",
        "column_categorical_non_binary = []\n",
        "for col in df.select_dtypes(include=['object']):\n",
        "\t#saat jumlah nilai unik dari suatu kolom sama dengan dua\n",
        "\t#atau dengan kata lain kolom bersifat biner\n",
        "\tif len(df[col].unique()) == 2:\n",
        "\t\t#buat objek LabelEncoder baru untuk kolom dan tampung dalam\n",
        "\t\t#dictionary labelers\n",
        "\t\tlabelers[col] = LabelEncoder()\n",
        "\t\t#meminta objek LabelEncoder untuk mempelajari dan\n",
        "\t\t#mentransformasikan kolom\n",
        "\t\tdf[col] = labelers[col].fit_transform(df[col])\n",
        "\t#untuk kolom bersifat non-biner\n",
        "\telse:\n",
        "\t\t#tambahkan nama kolom ke dalam array yang telah disiapkan\n",
        "\t\tcolumn_categorical_non_binary.append(col)\n",
        "print(df.head())\n",
        "\n",
        "df = pd.get_dummies(df, columns= column_categorical_non_binary)\n",
        "print(df.head())"
      ],
      "metadata": {
        "colab": {
          "base_uri": "https://localhost:8080/"
        },
        "id": "ec3BPr-Plqrt",
        "outputId": "7559852e-ac6f-4dae-d844-94fb7acef5c6"
      },
      "execution_count": 6,
      "outputs": [
        {
          "output_type": "stream",
          "name": "stdout",
          "text": [
            "   Jenis_kelamin  umur  membership_program  using_reward     pembayaran  \\\n",
            "0              1    41                  36             0           Cash   \n",
            "1              0    27                  36             1  Bank Transfer   \n",
            "2              0    45                  36             0           Cash   \n",
            "3              1    33                  12             0  Bank Transfer   \n",
            "4              1    38                  12             0           Cash   \n",
            "\n",
            "  Subscribe_brochure  \n",
            "0                 No  \n",
            "1              Email  \n",
            "2                 No  \n",
            "3                Yes  \n",
            "4                 No  \n",
            "   Jenis_kelamin  umur  membership_program  using_reward  \\\n",
            "0              1    41                  36             0   \n",
            "1              0    27                  36             1   \n",
            "2              0    45                  36             0   \n",
            "3              1    33                  12             0   \n",
            "4              1    38                  12             0   \n",
            "\n",
            "   pembayaran_Bank Transfer  pembayaran_Cash  pembayaran_Credit Card  \\\n",
            "0                     False             True                   False   \n",
            "1                      True            False                   False   \n",
            "2                     False             True                   False   \n",
            "3                      True            False                   False   \n",
            "4                     False             True                   False   \n",
            "\n",
            "   Subscribe_brochure_Email  Subscribe_brochure_No  Subscribe_brochure_Yes  \n",
            "0                     False                   True                   False  \n",
            "1                      True                  False                   False  \n",
            "2                     False                   True                   False  \n",
            "3                     False                  False                    True  \n",
            "4                     False                   True                   False  \n"
          ]
        }
      ]
    },
    {
      "cell_type": "markdown",
      "source": [
        "Dataset untuk Feature Matrix sebagai X | 7"
      ],
      "metadata": {
        "id": "E2-cx3iAm8Qa"
      }
    },
    {
      "cell_type": "code",
      "source": [
        "#Kode program sebelumnya\n",
        "import pandas as pd\n",
        "pd.set_option('display.max_column', 20)\n",
        "\n",
        "df = pd.read_excel('https://storage.googleapis.com/dqlab-dataset/cth_churn_analysis_train.xlsx')\n",
        "df.drop('ID_Customer', axis=1, inplace=True)\n",
        "df.drop('harga_per_bulan', axis=1, inplace=True)\n",
        "df.drop('jumlah_harga_langganan', axis=1, inplace=True)\n",
        "\n",
        "y = df.pop('churn').to_list()\n",
        "y = [1 if label == 'Yes' else 0 for label in y]\n",
        "\n",
        "from sklearn.preprocessing import LabelEncoder\n",
        "labelers = {}\n",
        "column_categorical_non_binary = []\n",
        "for col in df.select_dtypes(include=['object']):\n",
        "    if len(df[col].unique()) == 2:\n",
        "        labelers[col] = LabelEncoder()\n",
        "        df[col] = labelers[col].fit_transform(df[col])\n",
        "    else:\n",
        "        column_categorical_non_binary.append(col)\n",
        "\n",
        "df = pd.get_dummies(df, columns=column_categorical_non_binary)\n",
        "\n",
        "#merepresentasikan seluruh kolom dalam df sebagai matrik dan menampungnya dalam variabel X.\n",
        "X = df.to_numpy()\n",
        "\n",
        "#menampilkan informasi dimensi dari variabel X\n",
        "print(\"Dimensi dari variabel X:\",X.shape)"
      ],
      "metadata": {
        "colab": {
          "base_uri": "https://localhost:8080/"
        },
        "id": "dHHYeIFFnh2X",
        "outputId": "210f56c9-795e-41c6-f7b5-fe4a2ba4b637"
      },
      "execution_count": 7,
      "outputs": [
        {
          "output_type": "stream",
          "name": "stdout",
          "text": [
            "Dimensi dari variabel X: (499, 10)\n"
          ]
        }
      ]
    },
    {
      "cell_type": "markdown",
      "source": [
        "Dataset Training dan Testing | 8"
      ],
      "metadata": {
        "id": "z26wJMGBoQVm"
      }
    },
    {
      "cell_type": "code",
      "source": [
        "#Kode program sebelumnya\n",
        "import pandas as pd\n",
        "pd.set_option('display.max_column', 20)\n",
        "\n",
        "df = pd.read_excel('https://storage.googleapis.com/dqlab-dataset/cth_churn_analysis_train.xlsx')\n",
        "df.drop('ID_Customer', axis=1, inplace=True)\n",
        "df.drop('harga_per_bulan', axis=1, inplace=True)\n",
        "df.drop('jumlah_harga_langganan', axis=1, inplace=True)\n",
        "\n",
        "y = df.pop('churn').to_list()\n",
        "y = [1 if label == 'Yes' else 0 for label in y]\n",
        "\n",
        "from sklearn.preprocessing import LabelEncoder\n",
        "labelers = {}\n",
        "column_categorical_non_binary = []\n",
        "for col in df.select_dtypes(include=['object']):\n",
        "    if len(df[col].unique()) == 2:\n",
        "        labelers[col] = LabelEncoder()\n",
        "        df[col] = labelers[col].fit_transform(df[col])\n",
        "    else:\n",
        "        column_categorical_non_binary.append(col)\n",
        "\n",
        "df = pd.get_dummies(df, columns=column_categorical_non_binary)\n",
        "\n",
        "X = df.to_numpy()\n",
        "\n",
        "#library yang akan kita gunakan untuk membagi dataset\n",
        "from sklearn.model_selection import train_test_split\n",
        "\n",
        "X_train, X_test, y_train, y_test = train_test_split(X,y, test_size=0.1, random_state=23)\n",
        "\n",
        "print(\"Dimensi data X mula-mula:\", X.shape)\n",
        "print(\"Dimensi data y mula-mula:\",len(y),\"\\n\")\n",
        "\n",
        "print(\"Dimensi data X train:\", X_train.shape)\n",
        "print(\"Dimensi data y train:\", len(y_train),\"\\n\")\n",
        "\n",
        "print(\"Dimensi data X test:\", X_test.shape)\n",
        "print(\"Dimensi data y test:\", len(y_test),\"\\n\")"
      ],
      "metadata": {
        "colab": {
          "base_uri": "https://localhost:8080/"
        },
        "id": "zfKQbzWQoVMx",
        "outputId": "2964a565-8ec8-43ba-b99f-b138d9d9d72f"
      },
      "execution_count": 8,
      "outputs": [
        {
          "output_type": "stream",
          "name": "stdout",
          "text": [
            "Dimensi data X mula-mula: (499, 10)\n",
            "Dimensi data y mula-mula: 499 \n",
            "\n",
            "Dimensi data X train: (449, 10)\n",
            "Dimensi data y train: 449 \n",
            "\n",
            "Dimensi data X test: (50, 10)\n",
            "Dimensi data y test: 50 \n",
            "\n"
          ]
        }
      ]
    },
    {
      "cell_type": "markdown",
      "source": [
        "Training Model | 9"
      ],
      "metadata": {
        "id": "gaWnepweqkci"
      }
    },
    {
      "cell_type": "code",
      "source": [
        "#Kode program sebelumnya\n",
        "import pandas as pd\n",
        "from sklearn.preprocessing import LabelEncoder\n",
        "from sklearn.model_selection import train_test_split\n",
        "\n",
        "pd.set_option('display.max_column', 20)\n",
        "\n",
        "df = pd.read_excel('https://storage.googleapis.com/dqlab-dataset/cth_churn_analysis_train.xlsx')\n",
        "df.drop('ID_Customer', axis=1, inplace=True)\n",
        "df.drop('harga_per_bulan', axis=1, inplace=True)\n",
        "df.drop('jumlah_harga_langganan', axis=1, inplace=True)\n",
        "\n",
        "y = df.pop('churn').to_list()\n",
        "y = [1 if label == 'Yes' else 0 for label in y]\n",
        "\n",
        "labelers = {}\n",
        "column_categorical_non_binary = []\n",
        "for col in df.select_dtypes(include=['object']):\n",
        "    if len(df[col].unique()) == 2:\n",
        "        labelers[col] = LabelEncoder()\n",
        "        df[col] = labelers[col].fit_transform(df[col])\n",
        "    else:\n",
        "        column_categorical_non_binary.append(col)\n",
        "\n",
        "df = pd.get_dummies(df, columns=column_categorical_non_binary)\n",
        "\n",
        "X = df.to_numpy()\n",
        "\n",
        "X_train, X_test, y_train, y_test = train_test_split(X,y, test_size=0.1, random_state=23)\n",
        "\n",
        "#untuk melakukan proses klasifikasi menggunakan algoritma DecisionTree kita dapat mengimport object 'DecisionTreeClassifier' pada modul 'tree' milik library scikit-learn\n",
        "from sklearn.tree import DecisionTreeClassifier\n",
        "\n",
        "#potongan kode ini dapat kita gunakan untuk menginisialisasi model dengan default parameter yang telah disediakan oleh library perhatikan bahwa parameter random_state hanya digunakan untuk reproducibility seperti layaknya pada fungsi train_test_split\n",
        "model = DecisionTreeClassifier(random_state=57)\n",
        "\n",
        "#meminta model untuk melatih dirinya menggunakan data X_train dan y_train yang telah disiapkan\n",
        "print(\"Memulai melatih 'model'.\")\n",
        "model.fit(X_train,y_train)\n",
        "print(\"Selesai melatih 'model'.\")"
      ],
      "metadata": {
        "colab": {
          "base_uri": "https://localhost:8080/"
        },
        "id": "ptDfN8BQsQv0",
        "outputId": "5ef43186-9418-4a18-dd08-688f730c638b"
      },
      "execution_count": 9,
      "outputs": [
        {
          "output_type": "stream",
          "name": "stdout",
          "text": [
            "Memulai melatih 'model'.\n",
            "Selesai melatih 'model'.\n"
          ]
        }
      ]
    },
    {
      "cell_type": "markdown",
      "source": [
        "Menggunakan Model untuk Prediksi Data Baru | 10"
      ],
      "metadata": {
        "id": "nO31MM1_sS_x"
      }
    },
    {
      "cell_type": "code",
      "source": [
        "#Kode program sebelumnya\n",
        "import pandas as pd\n",
        "from sklearn.preprocessing import LabelEncoder\n",
        "from sklearn.model_selection import train_test_split\n",
        "from sklearn.tree import DecisionTreeClassifier\n",
        "\n",
        "pd.set_option('display.max_column', 20)\n",
        "\n",
        "df = pd.read_excel('https://storage.googleapis.com/dqlab-dataset/cth_churn_analysis_train.xlsx')\n",
        "df.drop('ID_Customer', axis=1, inplace=True)\n",
        "df.drop('harga_per_bulan', axis=1, inplace=True)\n",
        "df.drop('jumlah_harga_langganan', axis=1, inplace=True)\n",
        "\n",
        "y = df.pop('churn').to_list()\n",
        "y = [1 if label == 'Yes' else 0 for label in y]\n",
        "\n",
        "labelers = {}\n",
        "column_categorical_non_binary = []\n",
        "for col in df.select_dtypes(include=['object']):\n",
        "    if len(df[col].unique()) == 2:\n",
        "        labelers[col] = LabelEncoder()\n",
        "        df[col] = labelers[col].fit_transform(df[col])\n",
        "    else:\n",
        "        column_categorical_non_binary.append(col)\n",
        "\n",
        "df = pd.get_dummies(df, columns=column_categorical_non_binary)\n",
        "\n",
        "X = df.to_numpy()\n",
        "\n",
        "X_train, X_test, y_train, y_test = train_test_split(X,y, test_size=0.1, random_state=23)\n",
        "\n",
        "model = DecisionTreeClassifier(random_state=57)\n",
        "model.fit(X_train,y_train)\n",
        "\n",
        "X_new = [\n",
        "\t[1, 36, 12, 0, 0, 1, 0, 0, 0, 1], # <= data pertama\n",
        "\t[0, 23, 24, 1, 1, 0, 0, 0, 1, 0]  # <= data kedua\n",
        "]\n",
        "\n",
        "#melakukan prediksi pada data dalam variabel X_new\n",
        "y_new_pred = model.predict(X_new)\n",
        "print(y_new_pred)"
      ],
      "metadata": {
        "colab": {
          "base_uri": "https://localhost:8080/"
        },
        "id": "KZfBi8jDtZ05",
        "outputId": "a969583f-332e-426a-8d3d-55df22892cd3"
      },
      "execution_count": 10,
      "outputs": [
        {
          "output_type": "stream",
          "name": "stdout",
          "text": [
            "[1 0]\n"
          ]
        }
      ]
    },
    {
      "cell_type": "markdown",
      "source": [
        "Evaluasi Model Klasifikasi | 11"
      ],
      "metadata": {
        "id": "SzdHbODJt7ku"
      }
    },
    {
      "cell_type": "code",
      "source": [
        "#Kode program sebelumnya\n",
        "import pandas as pd\n",
        "from sklearn.preprocessing import LabelEncoder\n",
        "from sklearn.model_selection import train_test_split\n",
        "from sklearn.tree import DecisionTreeClassifier\n",
        "\n",
        "pd.set_option('display.max_column', 20)\n",
        "\n",
        "df = pd.read_excel('https://storage.googleapis.com/dqlab-dataset/cth_churn_analysis_train.xlsx')\n",
        "df.drop('ID_Customer', axis=1, inplace=True)\n",
        "df.drop('harga_per_bulan', axis=1, inplace=True)\n",
        "df.drop('jumlah_harga_langganan', axis=1, inplace=True)\n",
        "\n",
        "y = df.pop('churn').to_list()\n",
        "y = [1 if label == 'Yes' else 0 for label in y]\n",
        "\n",
        "labelers = {}\n",
        "column_categorical_non_binary = []\n",
        "for col in df.select_dtypes(include=['object']):\n",
        "    if len(df[col].unique()) == 2:\n",
        "        labelers[col] = LabelEncoder()\n",
        "        df[col] = labelers[col].fit_transform(df[col])\n",
        "    else:\n",
        "        column_categorical_non_binary.append(col)\n",
        "\n",
        "df = pd.get_dummies(df, columns=column_categorical_non_binary)\n",
        "\n",
        "X = df.to_numpy()\n",
        "\n",
        "X_train, X_test, y_train, y_test = train_test_split(X,y, test_size=0.1, random_state=23)\n",
        "\n",
        "model = DecisionTreeClassifier(random_state=57)\n",
        "model.fit(X_train,y_train)\n",
        "\n",
        "#meng-import fungsi untuk menghitung akurasi pada library scikit-learn\n",
        "from sklearn.metrics import accuracy_score\n",
        "\n",
        "#melakukan prediksi terhadap data latih dan menampung\n",
        "#label hasil prediksi dalam variabel y_pred\n",
        "y_pred = model.predict(X_train)\n",
        "score = accuracy_score(y_train,y_pred)\n",
        "print(\"Skor akurasi untuk data latih:\", score)\n",
        "\n",
        "#melakukan prediksi terhadap data testing dan menampung\n",
        "#label hasil prediksi dalam variabel y_pred\n",
        "y_pred = model.predict(X_test)\n",
        "score = accuracy_score(y_test,y_pred)\n",
        "print(\"Skor akurasi untuk data testing:\", score)"
      ],
      "metadata": {
        "colab": {
          "base_uri": "https://localhost:8080/"
        },
        "id": "g7wUWqkcut43",
        "outputId": "29d9b4d4-e839-4d1e-ca15-6fa83f85d628"
      },
      "execution_count": 12,
      "outputs": [
        {
          "output_type": "stream",
          "name": "stdout",
          "text": [
            "Skor akurasi untuk data latih: 0.9710467706013363\n",
            "Skor akurasi untuk data testing: 0.4\n"
          ]
        }
      ]
    },
    {
      "cell_type": "markdown",
      "source": [
        "Parameterisasi Model Decision Tree | 12"
      ],
      "metadata": {
        "id": "RdnL2f5nvPHm"
      }
    },
    {
      "cell_type": "code",
      "source": [
        "#Kode program sebelumnya\n",
        "import pandas as pd\n",
        "from sklearn.preprocessing import LabelEncoder\n",
        "from sklearn.model_selection import train_test_split\n",
        "from sklearn.tree import DecisionTreeClassifier\n",
        "\n",
        "pd.set_option('display.max_column', 20)\n",
        "\n",
        "df = pd.read_excel('https://storage.googleapis.com/dqlab-dataset/cth_churn_analysis_train.xlsx')\n",
        "df.drop('ID_Customer', axis=1, inplace=True)\n",
        "df.drop('harga_per_bulan', axis=1, inplace=True)\n",
        "df.drop('jumlah_harga_langganan', axis=1, inplace=True)\n",
        "\n",
        "y = df.pop('churn').to_list()\n",
        "y = [1 if label == 'Yes' else 0 for label in y]\n",
        "\n",
        "labelers = {}\n",
        "column_categorical_non_binary = []\n",
        "for col in df.select_dtypes(include=['object']):\n",
        "    if len(df[col].unique()) == 2:\n",
        "        labelers[col] = LabelEncoder()\n",
        "        df[col] = labelers[col].fit_transform(df[col])\n",
        "    else:\n",
        "        column_categorical_non_binary.append(col)\n",
        "\n",
        "df = pd.get_dummies(df, columns=column_categorical_non_binary)\n",
        "\n",
        "X = df.to_numpy()\n",
        "\n",
        "X_train, X_test, y_train, y_test = train_test_split(X,y, test_size=0.1, random_state=23)\n",
        "\n",
        "model = DecisionTreeClassifier(random_state=57)\n",
        "model.fit(X_train,y_train)\n",
        "\n",
        "from sklearn.metrics import accuracy_score\n",
        "\n",
        "#mendefinisikan nilai dari parameter 'min_samples_split' yang akan dicobakan\n",
        "min_samples_split_search = [2,4,8,16,32,64]\n",
        "\n",
        "#mendefinisikan nilai dari parameter 'max_depth' yang akan dicobakan\n",
        "max_depth_search = [4,8,16,32,64,128]\n",
        "\n",
        "#mendefinisikan variabel untuk menyimpan skor terbaik dari setiap model dengan parameter yang berbeda\n",
        "max_score = 0\n",
        "\n",
        "#mendefinisikan variabel untuk menyimpan model terbaik.\n",
        "best_model = None\n",
        "\n",
        "#mencoba membuat model DecisionTree berdasarkan nilai kombinasi\n",
        "#dari parameter 'min_samples_split' dan 'max_depth'\n",
        "for ms in min_samples_split_search:\n",
        "\tfor md in max_depth_search:\n",
        "\t\t# menginisialisasi model berdasarkan salah satu kombinasi nilai yang ada\n",
        "\t\tmodel = DecisionTreeClassifier(min_samples_split=ms, max_depth=md, random_state=57)\n",
        "\n",
        "\t\t#melatih model yang telah diinisialisasi dengan data\n",
        "\t\t#X_train dan label y_train\n",
        "\t\tmodel.fit(X_train,y_train)\n",
        "\n",
        "\t\t#melakukan prediksi terhadap data X_test\n",
        "\t\ty_pred = model.predict(X_test)\n",
        "\n",
        "\t\t#menghitung skor berdasarkan nilai aktual (y_test) dan (y_pred)\n",
        "\t\tscore = accuracy_score(y_test,y_pred)\n",
        "\n",
        "\t\t#jika score yang dihasilkan oleh model lebih besar dari skor\n",
        "\t\t#terbesar yang dicatat (max_score), maka\n",
        "\t\tif max_score < score:\n",
        "\t\t\t#simpan model dalam variabel best_model\n",
        "\t\t\tbest_model = model\n",
        "\n",
        "\t\t\t#update max_score menjadi score milik model\n",
        "\t\t\tmax_score = score\n",
        "\n",
        "print(\"Skor testing terbaik: \", max_score)\n",
        "print(\"Parameter model: max_depth=\",\n",
        "      best_model.get_params()['max_depth'],\n",
        "      \", min_samples_split=\",\n",
        "      best_model.get_params()['min_samples_split'])"
      ],
      "metadata": {
        "colab": {
          "base_uri": "https://localhost:8080/"
        },
        "id": "9VS6vICrwTK8",
        "outputId": "654bc711-fffe-4aba-daa7-157bbf6df15c"
      },
      "execution_count": 13,
      "outputs": [
        {
          "output_type": "stream",
          "name": "stdout",
          "text": [
            "Skor testing terbaik:  0.58\n",
            "Parameter model: max_depth= 8 , min_samples_split= 32\n"
          ]
        }
      ]
    },
    {
      "cell_type": "markdown",
      "source": [
        "Pemodelan dengan Random Forest | 13"
      ],
      "metadata": {
        "id": "qahaYtDTx03E"
      }
    },
    {
      "cell_type": "code",
      "source": [
        "#Kode program sebelumnya\n",
        "import pandas as pd\n",
        "from sklearn.preprocessing import LabelEncoder\n",
        "from sklearn.model_selection import train_test_split\n",
        "\n",
        "pd.set_option('display.max_column', 20)\n",
        "\n",
        "df = pd.read_excel('https://storage.googleapis.com/dqlab-dataset/cth_churn_analysis_train.xlsx')\n",
        "df.drop('ID_Customer', axis=1, inplace=True)\n",
        "df.drop('harga_per_bulan', axis=1, inplace=True)\n",
        "df.drop('jumlah_harga_langganan', axis=1, inplace=True)\n",
        "\n",
        "y = df.pop('churn').to_list()\n",
        "y = [1 if label == 'Yes' else 0 for label in y]\n",
        "\n",
        "labelers = {}\n",
        "column_categorical_non_binary = []\n",
        "for col in df.select_dtypes(include=['object']):\n",
        "    if len(df[col].unique()) == 2:\n",
        "        labelers[col] = LabelEncoder()\n",
        "        df[col] = labelers[col].fit_transform(df[col])\n",
        "    else:\n",
        "        column_categorical_non_binary.append(col)\n",
        "\n",
        "df = pd.get_dummies(df, columns=column_categorical_non_binary)\n",
        "\n",
        "X = df.to_numpy()\n",
        "\n",
        "X_train, X_test, y_train, y_test = train_test_split(X,y, test_size=0.1, random_state=23)\n",
        "\n",
        "#metode RandomForestClassifier dapat diakses pada library\n",
        "#scikit-learn, tepatnya pada modul ensemble.\n",
        "from sklearn.ensemble import RandomForestClassifier\n",
        "from sklearn.metrics import accuracy_score\n",
        "\n",
        "#menginisialisasi model dengan default parameter\n",
        "model = RandomForestClassifier(random_state=57)\n",
        "\n",
        "#melatih model dengan menggunakan data training\n",
        "model.fit(X_train,y_train)\n",
        "\n",
        "#meminta model yang telah dilatih melakukan prediksi\n",
        "#terhadap data latih dan menghitung akurasi prediksi\n",
        "y_pred = model.predict(X_train)\n",
        "score = accuracy_score(y_train,y_pred)\n",
        "\n",
        "print(\"Akurasi untuk data training: \", score)\n",
        "\n",
        "#meminta model yang telah dilatih melakukan prediksi\n",
        "#terhadap data testing dan menghitung akurasi prediksi\n",
        "y_pred = model.predict(X_test)\n",
        "score = accuracy_score(y_test,y_pred)\n",
        "\n",
        "print(\"Akurasi untuk data testing: \", score)"
      ],
      "metadata": {
        "colab": {
          "base_uri": "https://localhost:8080/"
        },
        "id": "objzQvmIy2-k",
        "outputId": "d1d7a792-438d-4f86-85a2-91fc6f12203a"
      },
      "execution_count": 14,
      "outputs": [
        {
          "output_type": "stream",
          "name": "stdout",
          "text": [
            "Akurasi untuk data training:  0.9710467706013363\n",
            "Akurasi untuk data testing:  0.48\n"
          ]
        }
      ]
    },
    {
      "cell_type": "markdown",
      "source": [
        "Parameterisasi model Random Forest | 14"
      ],
      "metadata": {
        "id": "HC5oKU6v5G5N"
      }
    },
    {
      "cell_type": "code",
      "source": [
        "#Kode program sebelumnya\n",
        "import pandas as pd\n",
        "from sklearn.preprocessing import LabelEncoder\n",
        "from sklearn.model_selection import train_test_split\n",
        "\n",
        "pd.set_option('display.max_column', 20)\n",
        "\n",
        "df = pd.read_excel('https://storage.googleapis.com/dqlab-dataset/cth_churn_analysis_train.xlsx')\n",
        "df.drop('ID_Customer', axis=1, inplace=True)\n",
        "df.drop('harga_per_bulan', axis=1, inplace=True)\n",
        "df.drop('jumlah_harga_langganan', axis=1, inplace=True)\n",
        "\n",
        "y = df.pop('churn').to_list()\n",
        "y = [1 if label == 'Yes' else 0 for label in y]\n",
        "\n",
        "labelers = {}\n",
        "column_categorical_non_binary = []\n",
        "for col in df.select_dtypes(include=['object']):\n",
        "    if len(df[col].unique()) == 2:\n",
        "        labelers[col] = LabelEncoder()\n",
        "        df[col] = labelers[col].fit_transform(df[col])\n",
        "    else:\n",
        "        column_categorical_non_binary.append(col)\n",
        "\n",
        "df = pd.get_dummies(df, columns=column_categorical_non_binary)\n",
        "\n",
        "X = df.to_numpy()\n",
        "\n",
        "X_train, X_test, y_train, y_test = train_test_split(X,y, test_size=0.1, random_state=23)\n",
        "\n",
        "from sklearn.ensemble import RandomForestClassifier\n",
        "from sklearn.metrics import accuracy_score\n",
        "\n",
        "#parameter untuk mengatur setiap Decision Tree yang akan dibentuk pada model Random Forest\n",
        "min_samples_split_search = [8, 12, 16, 20,24]\n",
        "max_depth_search = [4,5,6,7,8]\n",
        "\n",
        "#parameter untuk mengatur jumlah model Decision Tree yang akan terbentuk pada model Random Forest\n",
        "n_estimators_search = [10, 25, 50, 75, 100]\n",
        "\n",
        "max_score = 0\n",
        "best_model = None\n",
        "for ms in min_samples_split_search:\n",
        "\tfor md in max_depth_search:\n",
        "\t\tfor ne in n_estimators_search:\n",
        "\t\t\tmodel = RandomForestClassifier(n_estimators = ne, min_samples_split=ms, max_depth=md, random_state=57)\n",
        "\t\t\tmodel.fit(X_train,y_train)\n",
        "\t\t\ty_pred = model.predict(X_test)\n",
        "\t\t\tscore = accuracy_score(y_test,y_pred)\n",
        "\t\t\tif max_score < score:\n",
        "\t\t\t\tbest_model = model\n",
        "\t\t\t\tmax_score = score\n",
        "\n",
        "print(\"Skor testing terbaik: \",max_score)\n",
        "print(\"Parameter model: max_depth=\",\n",
        "      best_model.get_params()['max_depth'],\n",
        "      \", min_samples_split=\",\n",
        "      best_model.get_params()['min_samples_split'],\n",
        "      \", n_estimators=\",\n",
        "      best_model.get_params()['n_estimators']\n",
        "      )"
      ],
      "metadata": {
        "colab": {
          "base_uri": "https://localhost:8080/"
        },
        "id": "gPB5x34f5O4k",
        "outputId": "a2da2d00-0773-46b0-9354-22d977ab34f6"
      },
      "execution_count": 15,
      "outputs": [
        {
          "output_type": "stream",
          "name": "stdout",
          "text": [
            "Skor testing terbaik:  0.54\n",
            "Parameter model: max_depth= 6 , min_samples_split= 8 , n_estimators= 50\n"
          ]
        }
      ]
    },
    {
      "cell_type": "markdown",
      "source": [
        "Mini Project #1: Decision Tree"
      ],
      "metadata": {
        "id": "CKBA1Qcb5jZz"
      }
    },
    {
      "cell_type": "code",
      "source": [
        "#Kode program sebelumnya\n",
        "import pandas as pd\n",
        "from sklearn.preprocessing import LabelEncoder\n",
        "from sklearn.model_selection import train_test_split\n",
        "\n",
        "pd.set_option('display.max_column', 20)\n",
        "\n",
        "df = pd.read_excel('https://storage.googleapis.com/dqlab-dataset/cth_churn_analysis_train.xlsx')\n",
        "df.drop('ID_Customer', axis=1, inplace=True)\n",
        "df.drop('harga_per_bulan', axis=1, inplace=True)\n",
        "df.drop('jumlah_harga_langganan', axis=1, inplace=True)\n",
        "\n",
        "y = df.pop('churn').to_list()\n",
        "y = [1 if label == 'Yes' else 0 for label in y]\n",
        "\n",
        "labelers = {}\n",
        "column_categorical_non_binary = []\n",
        "for col in df.select_dtypes(include=['object']):\n",
        "    if len(df[col].unique()) == 2:\n",
        "        labelers[col] = LabelEncoder()\n",
        "        df[col] = labelers[col].fit_transform(df[col])\n",
        "    else:\n",
        "        column_categorical_non_binary.append(col)\n",
        "\n",
        "df = pd.get_dummies(df, columns=column_categorical_non_binary)\n",
        "\n",
        "X = df.to_numpy()\n",
        "\n",
        "X_train, X_test, y_train, y_test = train_test_split(X,y, test_size=0.1, random_state=23)\n",
        "\n",
        "from sklearn.tree import DecisionTreeClassifier\n",
        "from sklearn.metrics import accuracy_score\n",
        "\n",
        "#mendefinisikan nilai dari parameter 'min_samples_split' yang akan dicobakan\n",
        "min_samples_split_search = [6,7,8,9,10]\n",
        "\n",
        "#mendefinisikan nilai dari parameter 'max_depth' yang akan dicobakan\n",
        "max_depth_search = [24,28,32,36]\n",
        "\n",
        "max_score = 0\n",
        "best_model = None\n",
        "\n",
        "for ms in min_samples_split_search:\n",
        "\tfor md in max_depth_search:\n",
        "\t\tmodel = DecisionTreeClassifier(min_samples_split=ms, max_depth=md, random_state=57)\n",
        "\n",
        "\t\tmodel.fit(X_train,y_train)\n",
        "\n",
        "\t\t#melakukan prediksi terhadap data X_test\n",
        "\t\ty_pred = model.predict(X_test)\n",
        "\n",
        "\t\t#menghitung skor berdasarkan nilai aktual (y_test) dan (y_pred)\n",
        "\t\tscore = accuracy_score(y_test,y_pred)\n",
        "\n",
        "\t\t#jika score yang dihasilkan oleh model lebih besar dari skor\n",
        "\t\t#terbesar yang dicatat (max_score), maka\n",
        "\t\tif max_score < score:\n",
        "\t\t\tbest_model = model\n",
        "\t\t\tmax_score = score\n",
        "\n",
        "print(\"Skor testing terbaik: \",max_score)\n",
        "print(\"Parameter model: max_depth=\",\n",
        "      best_model.get_params()['max_depth'],\n",
        "      \", min_samples_split=\",\n",
        "      best_model.get_params()['min_samples_split'])"
      ],
      "metadata": {
        "colab": {
          "base_uri": "https://localhost:8080/"
        },
        "id": "xSyPvprm6fev",
        "outputId": "cd60dfd3-2764-41ea-ec7f-5fd82f071afb"
      },
      "execution_count": 16,
      "outputs": [
        {
          "output_type": "stream",
          "name": "stdout",
          "text": [
            "Skor testing terbaik:  0.44\n",
            "Parameter model: max_depth= 24 , min_samples_split= 6\n"
          ]
        }
      ]
    },
    {
      "cell_type": "markdown",
      "source": [
        "Mini Project #2: Random Forest"
      ],
      "metadata": {
        "id": "urUEqy7H6k8F"
      }
    },
    {
      "cell_type": "code",
      "source": [
        "#Kode program sebelumnya\n",
        "import pandas as pd\n",
        "from sklearn.preprocessing import LabelEncoder\n",
        "from sklearn.model_selection import train_test_split\n",
        "\n",
        "pd.set_option('display.max_column', 20)\n",
        "\n",
        "df = pd.read_excel('https://storage.googleapis.com/dqlab-dataset/cth_churn_analysis_train.xlsx')\n",
        "df.drop('ID_Customer', axis=1, inplace=True)\n",
        "df.drop('harga_per_bulan', axis=1, inplace=True)\n",
        "df.drop('jumlah_harga_langganan', axis=1, inplace=True)\n",
        "\n",
        "y = df.pop('churn').to_list()\n",
        "y = [1 if label == 'Yes' else 0 for label in y]\n",
        "\n",
        "labelers = {}\n",
        "column_categorical_non_binary = []\n",
        "for col in df.select_dtypes(include=['object']):\n",
        "    if len(df[col].unique()) == 2:\n",
        "        labelers[col] = LabelEncoder()\n",
        "        df[col] = labelers[col].fit_transform(df[col])\n",
        "    else:\n",
        "        column_categorical_non_binary.append(col)\n",
        "\n",
        "df = pd.get_dummies(df, columns=column_categorical_non_binary)\n",
        "\n",
        "X = df.to_numpy()\n",
        "\n",
        "X_train, X_test, y_train, y_test = train_test_split(X,y, test_size=0.1, random_state=23)\n",
        "\n",
        "from sklearn.ensemble import RandomForestClassifier\n",
        "from sklearn.metrics import accuracy_score\n",
        "\n",
        "#parameter untuk mengatur setiap Decision Tree yang akan dibentuk pada model Random Forest\n",
        "min_samples_split_search = [4,5,6,7,8]\n",
        "max_depth_search = [6,8,10,12,16]\n",
        "\n",
        "#parameter untuk mengatur jumlah model Decision Tree yang akan terbentuk pada model Random Forest\n",
        "n_estimators_search = [20,30,40,50,60]\n",
        "\n",
        "max_score = 0\n",
        "best_model = None\n",
        "for ms in min_samples_split_search:\n",
        "\tfor md in max_depth_search:\n",
        "\t\tfor ne in n_estimators_search:\n",
        "\t\t\tmodel = RandomForestClassifier(n_estimators = ne, min_samples_split=ms, max_depth=md, random_state=57)\n",
        "\t\t\tmodel.fit(X_train,y_train)\n",
        "\t\t\ty_pred = model.predict(X_test)\n",
        "\t\t\tscore = accuracy_score(y_test,y_pred)\n",
        "\t\t\tif max_score < score:\n",
        "\t\t\t\tbest_model = model\n",
        "\t\t\t\tmax_score = score\n",
        "\n",
        "print(\"Skor testing terbaik: \",max_score)\n",
        "print(\"Parameter model: max_depth=\",\n",
        "      best_model.get_params()['max_depth'],\n",
        "      \", min_samples_split=\",\n",
        "      best_model.get_params()['min_samples_split'],\n",
        "      \", n_estimators=\",\n",
        "      best_model.get_params()['n_estimators']\n",
        "      )"
      ],
      "metadata": {
        "colab": {
          "base_uri": "https://localhost:8080/"
        },
        "id": "_VX-Ipr_6src",
        "outputId": "1ca2497a-4601-441d-80f9-77c36f9189df"
      },
      "execution_count": 17,
      "outputs": [
        {
          "output_type": "stream",
          "name": "stdout",
          "text": [
            "Skor testing terbaik:  0.54\n",
            "Parameter model: max_depth= 12 , min_samples_split= 5 , n_estimators= 40\n"
          ]
        }
      ]
    }
  ]
}