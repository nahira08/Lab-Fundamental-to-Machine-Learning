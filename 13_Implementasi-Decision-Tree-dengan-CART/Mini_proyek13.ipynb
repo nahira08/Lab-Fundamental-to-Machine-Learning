{
  "nbformat": 4,
  "nbformat_minor": 0,
  "metadata": {
    "colab": {
      "provenance": []
    },
    "kernelspec": {
      "name": "python3",
      "display_name": "Python 3"
    },
    "language_info": {
      "name": "python"
    }
  },
  "cells": [
    {
      "cell_type": "markdown",
      "source": [
        "Drop Kolom dan Melihat Relasi Antar Data"
      ],
      "metadata": {
        "id": "NzaCPx0XjGXZ"
      }
    },
    {
      "cell_type": "code",
      "execution_count": null,
      "metadata": {
        "id": "pU8yeG0njWiZ"
      },
      "outputs": [],
      "source": [
        "#Kode sebelumnya\n",
        "import pandas as pd\n",
        "\n",
        "df = pd.read_excel('https://storage.googleapis.com/dqlab-dataset/credit_scoring_dqlab.xlsx')\n",
        "\n",
        "#Hapus kolom kode_kontrak dari dataframe\n",
        "df.drop(['kode_kontrak'], axis=1, inplace=True)\n",
        "\n",
        "#Periksa relasi antara kolom 'rata_rata_overdue' dan 'risk_rating'\n",
        "print('melihat data unique pada kolom rata_rata_overdue:')\n",
        "print(df['rata_rata_overdue'].unique())\n",
        "print()\n",
        "print('melihat data unique pada kolom risk_rating:')\n",
        "print(df['risk_rating'].unique())\n",
        "print()\n",
        "print('membandingkan data pada kolom rata_rata_overdue dan risk_rating:')\n",
        "print(df[['rata_rata_overdue','risk_rating']])"
      ]
    },
    {
      "cell_type": "markdown",
      "source": [
        "Menghapus Kolom 'rata_rata_overdue'\n",
        "Berdasarkan hasil"
      ],
      "metadata": {
        "id": "lhei0nkvkjbv"
      }
    },
    {
      "cell_type": "code",
      "source": [
        "#Kode sebelumnya\n",
        "import pandas as pd\n",
        "\n",
        "df = pd.read_excel('https://storage.googleapis.com/dqlab-dataset/credit_scoring_dqlab.xlsx')\n",
        "\n",
        "df.drop(['kode_kontrak'], axis=1, inplace=True)\n",
        "\n",
        "#Hapus kolom rata_rata_overdue dari dataframe\n",
        "df.drop(['rata_rata_overdue'], axis=1, inplace=True)\n",
        "\n",
        "#Memeriksa jumlah data pada setiap kelas\n",
        "print(df['risk_rating'].value_counts())"
      ],
      "metadata": {
        "id": "8vGH7snTk1QL"
      },
      "execution_count": null,
      "outputs": []
    },
    {
      "cell_type": "markdown",
      "source": [
        "Memeriksa Data"
      ],
      "metadata": {
        "id": "jq9DrQRrmXUn"
      }
    },
    {
      "cell_type": "code",
      "source": [
        "#Kode sebelumnya\n",
        "import pandas as pd\n",
        "\n",
        "df = pd.read_excel('https://storage.googleapis.com/dqlab-dataset/credit_scoring_dqlab.xlsx')\n",
        "\n",
        "df.drop(['kode_kontrak'], axis=1, inplace=True)\n",
        "df.drop(['rata_rata_overdue'], axis=1, inplace=True)\n",
        "\n",
        "#Periksa struktur dataset\n",
        "df.info()\n",
        "\n",
        "#Periksa data unique pada kolom kpr_aktif\n",
        "print('\\nData unik pada kpr_aktif:', df['kpr_aktif'].unique())\n",
        "\n",
        "#Periksa tipe data pada kolom kpr_aktif\n",
        "print('\\nTipe Data:', type(df['kpr_aktif'].iloc[1]))"
      ],
      "metadata": {
        "id": "F95fnZEFmZMp"
      },
      "execution_count": null,
      "outputs": []
    },
    {
      "cell_type": "markdown",
      "source": [
        "Konversi Tipe Data String ke Boolean"
      ],
      "metadata": {
        "id": "4O8ophJQnA9h"
      }
    },
    {
      "cell_type": "code",
      "source": [
        "#Kode sebelumnya\n",
        "import pandas as pd\n",
        "\n",
        "df = pd.read_excel('https://storage.googleapis.com/dqlab-dataset/credit_scoring_dqlab.xlsx')\n",
        "\n",
        "df.drop(['kode_kontrak'], axis=1, inplace=True)\n",
        "df.drop(['rata_rata_overdue'], axis=1, inplace=True)\n",
        "\n",
        "#Konversi tipe data 'kpr_aktif' dari tipe string menjadi boolean\n",
        "df.loc[(df['kpr_aktif']=='YA'), 'kpr_aktif'] = True\n",
        "df.loc[(df['kpr_aktif']=='TIDAK'), 'kpr_aktif'] = False\n",
        "df['kpr_aktif'] = df['kpr_aktif'].astype('bool')\n",
        "df.info()"
      ],
      "metadata": {
        "id": "8YGwANH9n3qg"
      },
      "execution_count": null,
      "outputs": []
    },
    {
      "cell_type": "markdown",
      "source": [
        "Pembagian Dataset Training dan Testing"
      ],
      "metadata": {
        "id": "4qC0jXiip0jm"
      }
    },
    {
      "cell_type": "code",
      "source": [
        "#Kode sebelumnya\n",
        "import pandas as pd\n",
        "\n",
        "df = pd.read_excel('https://storage.googleapis.com/dqlab-dataset/credit_scoring_dqlab.xlsx')\n",
        "\n",
        "df.drop(['kode_kontrak'], axis=1, inplace=True)\n",
        "df.drop(['rata_rata_overdue'], axis=1, inplace=True)\n",
        "\n",
        "df.loc[(df['kpr_aktif']=='YA'), 'kpr_aktif'] = True\n",
        "df.loc[(df['kpr_aktif']=='TIDAK'), 'kpr_aktif'] = False\n",
        "df['kpr_aktif'] = df['kpr_aktif'].astype('bool')\n",
        "\n",
        "#Membagi kolom menjadi variabel fitur dan variabel target\n",
        "feature_cols = ['pendapatan_setahun_juta', 'kpr_aktif', 'durasi_pinjaman_bulan', 'jumlah_tanggungan']\n",
        "# Variabel fitur\n",
        "X = df[feature_cols]\n",
        "# Variabel target\n",
        "y = df['risk_rating']\n",
        "\n",
        "#Bagi dataset menjadi training (60%) dan testing set (40%) dan seed untuk random number=42 (seed boleh bebas dipilih)\n",
        "from sklearn.model_selection import train_test_split\n",
        "X_train, X_test, y_train, y_test = train_test_split(X, y, test_size=0.4, random_state=42)\n",
        "\n",
        "#Cek ukuran training set dan testing set\n",
        "print('Ukuran training set:', X_train.shape)\n",
        "print('Ukuran testing set :', X_test.shape)"
      ],
      "metadata": {
        "id": "wKBwuKCyp1qw"
      },
      "execution_count": null,
      "outputs": []
    },
    {
      "cell_type": "markdown",
      "source": [
        "Cek Porsi Data Training dan Testing"
      ],
      "metadata": {
        "id": "JwO_TndVrWGw"
      }
    },
    {
      "cell_type": "code",
      "source": [
        "#Kode sebelumnya\n",
        "import pandas as pd\n",
        "\n",
        "df = pd.read_excel('https://storage.googleapis.com/dqlab-dataset/credit_scoring_dqlab.xlsx')\n",
        "\n",
        "df.drop(['kode_kontrak'], axis=1, inplace=True)\n",
        "df.drop(['rata_rata_overdue'], axis=1, inplace=True)\n",
        "\n",
        "df.loc[(df['kpr_aktif']=='YA'), 'kpr_aktif'] = True\n",
        "df.loc[(df['kpr_aktif']=='TIDAK'), 'kpr_aktif'] = False\n",
        "df['kpr_aktif'] = df['kpr_aktif'].astype('bool')\n",
        "\n",
        "feature_cols = ['pendapatan_setahun_juta', 'kpr_aktif', 'durasi_pinjaman_bulan', 'jumlah_tanggungan']\n",
        "\n",
        "X = df[feature_cols]\n",
        "y = df['risk_rating']\n",
        "\n",
        "from sklearn.model_selection import train_test_split\n",
        "X_train, X_test, y_train, y_test = train_test_split(X, y, test_size=0.4, random_state=42)\n",
        "\n",
        "#Cek porsi tiap kelas pada data training dan data testing\n",
        "print('Porsi tiap kelas pada data training:')\n",
        "print(y_train.value_counts(normalize=True) * 100)\n",
        "print('\\nPorsi tiap kelas pada data testing:')\n",
        "print(y_test.value_counts(normalize=True) * 100)"
      ],
      "metadata": {
        "id": "ZnKbBM8ttSzO"
      },
      "execution_count": null,
      "outputs": []
    },
    {
      "cell_type": "markdown",
      "source": [
        "Inisialisasi dan Pelatihan Model"
      ],
      "metadata": {
        "id": "eZRMWKP-wFBM"
      }
    },
    {
      "cell_type": "code",
      "source": [
        "#Kode sebelumnya\n",
        "import pandas as pd\n",
        "\n",
        "df = pd.read_excel('https://storage.googleapis.com/dqlab-dataset/credit_scoring_dqlab.xlsx')\n",
        "\n",
        "df.drop(['kode_kontrak'], axis=1, inplace=True)\n",
        "df.drop(['rata_rata_overdue'], axis=1, inplace=True)\n",
        "\n",
        "df.loc[(df['kpr_aktif']=='YA'), 'kpr_aktif'] = True\n",
        "df.loc[(df['kpr_aktif']=='TIDAK'), 'kpr_aktif'] = False\n",
        "df['kpr_aktif'] = df['kpr_aktif'].astype('bool')\n",
        "\n",
        "feature_cols = ['pendapatan_setahun_juta', 'kpr_aktif', 'durasi_pinjaman_bulan', 'jumlah_tanggungan']\n",
        "\n",
        "X = df[feature_cols]\n",
        "y = df['risk_rating']\n",
        "\n",
        "from sklearn.model_selection import train_test_split\n",
        "X_train, X_test, y_train, y_test = train_test_split(X, y, test_size=0.4, random_state=42)\n",
        "\n",
        "#Melakukan import library DecisionTreeClassifier dari paket sklearn.tree\n",
        "from sklearn.tree import DecisionTreeClassifier\n",
        "\n",
        "#Buat sebuah Decision Tree Classifier dengan metode gini impurity index, kedalaman pohon = 4 dan seed bilangan acak = 42\n",
        "#Lakukan fitting model DTS dengan menggunakan training data\n",
        "clf = DecisionTreeClassifier(criterion='gini', max_depth=4, random_state=42)\n",
        "\n",
        "#Melakukan fitting model dengan dataset training\n",
        "clf.fit(X_train, y_train)\n",
        "print(clf)"
      ],
      "metadata": {
        "id": "504_4xjAwJz0"
      },
      "execution_count": null,
      "outputs": []
    },
    {
      "cell_type": "markdown",
      "source": [
        "Visualisasi Model - Part 1"
      ],
      "metadata": {
        "id": "gunfTGInwcL-"
      }
    },
    {
      "cell_type": "code",
      "source": [
        "#Kode sebelumnya\n",
        "import pandas as pd\n",
        "\n",
        "df = pd.read_excel('https://storage.googleapis.com/dqlab-dataset/credit_scoring_dqlab.xlsx')\n",
        "\n",
        "df.drop(['kode_kontrak'], axis=1, inplace=True)\n",
        "df.drop(['rata_rata_overdue'], axis=1, inplace=True)\n",
        "\n",
        "df.loc[(df['kpr_aktif']=='YA'), 'kpr_aktif'] = True\n",
        "df.loc[(df['kpr_aktif']=='TIDAK'), 'kpr_aktif'] = False\n",
        "df['kpr_aktif'] = df['kpr_aktif'].astype('bool')\n",
        "\n",
        "feature_cols = ['pendapatan_setahun_juta', 'kpr_aktif', 'durasi_pinjaman_bulan', 'jumlah_tanggungan']\n",
        "\n",
        "X = df[feature_cols]\n",
        "y = df['risk_rating']\n",
        "\n",
        "from sklearn.model_selection import train_test_split\n",
        "X_train, X_test, y_train, y_test = train_test_split(X, y, test_size=0.4, random_state=42)\n",
        "\n",
        "from sklearn.tree import DecisionTreeClassifier\n",
        "clf = DecisionTreeClassifier(criterion='gini', max_depth=4, random_state=42)\n",
        "clf.fit(X_train, y_train)\n",
        "\n",
        "#Melakukan labeling pada Decision Tree\n",
        "feature_names = X.columns\n",
        "labels = list(y.unique())\n",
        "labels.sort()\n",
        "labels = [str(x) for x in labels]\n",
        "\n",
        "#Visualisasi Decision Tree Classifier menggunakan library 'tree' impor paket yang dibutuhkan\n",
        "from sklearn import tree\n",
        "import matplotlib.pyplot as plt\n",
        "\n",
        "#plot gambar dan atur warna latar\n",
        "plt.figure(figsize=(30,10), facecolor ='yellow')\n",
        "\n",
        "#Buat diagram pohon\n",
        "tree.plot_tree(clf, feature_names=feature_names, class_names=labels, rounded=True, filled=True, fontsize=8)\n",
        "\n",
        "#Apabila gambar pohon yang dihasilkan tidak jelas, gambar tersebut dapat disimpan dengan resolusi tinggi ke dalam bentuk JPEG, PNG, dsb. Gambar dapat dilihat pada file yang telah disimpan\n",
        "#plt.savefig(\"nama_file.png\", dpi=100)\n",
        "\n",
        "#Tampilkan gambar\n",
        "plt.tight_layout()\n",
        "plt.show()"
      ],
      "metadata": {
        "id": "mrXRZ6Gwwuzh"
      },
      "execution_count": null,
      "outputs": []
    },
    {
      "cell_type": "markdown",
      "source": [
        "Visualisasi Model - Part 2"
      ],
      "metadata": {
        "id": "N4xYdut7yND8"
      }
    },
    {
      "cell_type": "code",
      "source": [
        "#Kode sebelumnya\n",
        "import pandas as pd\n",
        "\n",
        "df = pd.read_excel('https://storage.googleapis.com/dqlab-dataset/credit_scoring_dqlab.xlsx')\n",
        "\n",
        "df.drop(['kode_kontrak'], axis=1, inplace=True)\n",
        "df.drop(['rata_rata_overdue'], axis=1, inplace=True)\n",
        "\n",
        "df.loc[(df['kpr_aktif']=='YA'), 'kpr_aktif'] = True\n",
        "df.loc[(df['kpr_aktif']=='TIDAK'), 'kpr_aktif'] = False\n",
        "df['kpr_aktif'] = df['kpr_aktif'].astype('bool')\n",
        "\n",
        "feature_cols = ['pendapatan_setahun_juta', 'kpr_aktif', 'durasi_pinjaman_bulan', 'jumlah_tanggungan']\n",
        "\n",
        "X = df[feature_cols]\n",
        "y = df['risk_rating']\n",
        "\n",
        "from sklearn.model_selection import train_test_split\n",
        "X_train, X_test, y_train, y_test = train_test_split(X, y, test_size=0.4, random_state=42)\n",
        "\n",
        "from sklearn.tree import DecisionTreeClassifier\n",
        "clf = DecisionTreeClassifier(criterion='gini', max_depth=4, random_state=42)\n",
        "clf.fit(X_train, y_train)\n",
        "\n",
        "#Visualisasi Decision Tree menggunakan text\n",
        "#import relevant functions\n",
        "from sklearn.tree import export_text\n",
        "\n",
        "#export the decision rules\n",
        "tree_rules = export_text(clf, feature_names=list(X.columns))\n",
        "\n",
        "#print the result\n",
        "print(tree_rules)"
      ],
      "metadata": {
        "id": "Q3RLdpA5z4sw"
      },
      "execution_count": null,
      "outputs": []
    },
    {
      "cell_type": "markdown",
      "source": [
        "Evaluasi Model"
      ],
      "metadata": {
        "id": "E6cGRAK00JHo"
      }
    },
    {
      "cell_type": "code",
      "source": [
        "#Kode sebelumnya\n",
        "import pandas as pd\n",
        "\n",
        "df = pd.read_excel('https://storage.googleapis.com/dqlab-dataset/credit_scoring_dqlab.xlsx')\n",
        "\n",
        "df.drop(['kode_kontrak'], axis=1, inplace=True)\n",
        "df.drop(['rata_rata_overdue'], axis=1, inplace=True)\n",
        "\n",
        "df.loc[(df['kpr_aktif']=='YA'), 'kpr_aktif'] = True\n",
        "df.loc[(df['kpr_aktif']=='TIDAK'), 'kpr_aktif'] = False\n",
        "df['kpr_aktif'] = df['kpr_aktif'].astype('bool')\n",
        "\n",
        "feature_cols = ['pendapatan_setahun_juta', 'kpr_aktif', 'durasi_pinjaman_bulan', 'jumlah_tanggungan']\n",
        "\n",
        "X = df[feature_cols]\n",
        "y = df['risk_rating']\n",
        "\n",
        "from sklearn.model_selection import train_test_split\n",
        "X_train, X_test, y_train, y_test = train_test_split(X, y, test_size=0.4, random_state=42)\n",
        "\n",
        "from sklearn.tree import DecisionTreeClassifier\n",
        "clf = DecisionTreeClassifier(criterion='gini', max_depth=4, random_state=42)\n",
        "clf.fit(X_train, y_train)\n",
        "\n",
        "#Lakukan prediksi dataset training menggunakan model yang telah dibangun\n",
        "from sklearn import metrics\n",
        "train_pred = clf.predict(X_train)\n",
        "train_accuracy = metrics.accuracy_score(y_train, train_pred)\n",
        "print('Akurasi training dataset:', train_accuracy)\n",
        "\n",
        "#Lakukan prediksi dataset testing menggunakan model yang telah dibangun\n",
        "test_pred = clf.predict(X_test)\n",
        "test_accuracy = metrics.accuracy_score(y_test, test_pred)\n",
        "print('Akurasi testing dataset :', test_accuracy)\n"
      ],
      "metadata": {
        "id": "boB3h9HO2LNm"
      },
      "execution_count": null,
      "outputs": []
    },
    {
      "cell_type": "markdown",
      "source": [
        "Hyperparameter Tuning"
      ],
      "metadata": {
        "id": "pIx27Pf_9Z-I"
      }
    },
    {
      "cell_type": "code",
      "source": [
        "#Kode sebelumnya\n",
        "import pandas as pd\n",
        "from sklearn.model_selection import train_test_split\n",
        "from sklearn.tree import DecisionTreeClassifier\n",
        "from sklearn import metrics\n",
        "\n",
        "df = pd.read_excel('https://storage.googleapis.com/dqlab-dataset/credit_scoring_dqlab.xlsx')\n",
        "\n",
        "df.drop(['kode_kontrak'], axis=1, inplace=True)\n",
        "df.drop(['rata_rata_overdue'], axis=1, inplace=True)\n",
        "\n",
        "df.loc[(df['kpr_aktif']=='YA'), 'kpr_aktif'] = True\n",
        "df.loc[(df['kpr_aktif']=='TIDAK'), 'kpr_aktif'] = False\n",
        "df['kpr_aktif'] = df['kpr_aktif'].astype('bool')\n",
        "\n",
        "feature_cols = ['pendapatan_setahun_juta', 'kpr_aktif', 'durasi_pinjaman_bulan', 'jumlah_tanggungan']\n",
        "\n",
        "X = df[feature_cols]\n",
        "y = df['risk_rating']\n",
        "\n",
        "X_train, X_test, y_train, y_test = train_test_split(X, y, test_size=0.4, random_state=42)\n",
        "\n",
        "#Impor fungsi GridSearchCV\n",
        "from sklearn.model_selection import GridSearchCV\n",
        "\n",
        "#Tentukan nilai parameter max_depth yang akan diuji\n",
        "tuned_parameters = [{'max_depth': [1,2,3,4,5,6,7,8,9,10]}]\n",
        "\n",
        "#Tentukan kriteria penilaian menggunakan nilai F1\n",
        "print('\\nTuning hyperparameters untuk F1-score\\n')\n",
        "\n",
        "clf = GridSearchCV(DecisionTreeClassifier(), tuned_parameters, scoring='f1_macro')\n",
        "clf.fit(X_train, y_train)\n",
        "\n",
        "print('Hasil nilai uji saat melakukan tuning:')\n",
        "means = clf.cv_results_['mean_test_score']\n",
        "stds = clf.cv_results_['std_test_score']\n",
        "for mean, std, params in zip(means, stds, clf.cv_results_['params']):\n",
        "\tprint(f'{mean:0.3f} (+/-{std*2:0.03f}) for {params}')\n",
        "\n",
        "#Parameter terbaik yang ditemukan\n",
        "print('\\nParameter terbaik yang ditemukan:')\n",
        "print(clf.best_params_)\n",
        "\n",
        "#Model dengan parameter terbaik yang ditemukan\n",
        "best_model = clf.best_estimator_\n",
        "\n",
        "#Lakukan prediksi dataset training dan dataset testing menggunakan model dengan parameter terbaik\n",
        "train_pred = best_model.predict(X_train)\n",
        "train_accuracy = metrics.accuracy_score(y_train, train_pred)\n",
        "test_pred = best_model.predict(X_test)\n",
        "test_accuracy = metrics.accuracy_score(y_test, test_pred)\n",
        "\n",
        "print('\\nAkurasi training dataset:', train_accuracy)\n",
        "print('Akurasi testing dataset :', test_accuracy)"
      ],
      "metadata": {
        "id": "-tpqMdme9bG_"
      },
      "execution_count": null,
      "outputs": []
    },
    {
      "cell_type": "markdown",
      "source": [
        "Mini Project"
      ],
      "metadata": {
        "id": "S2Urn27Q98wI"
      }
    },
    {
      "cell_type": "code",
      "source": [
        "#Import library pandas yang akan digunakan untuk mengolah data menggunakan struktur dataframe\n",
        "import pandas as pd\n",
        "pd.set_option('display.max_column', 20)\n",
        "\n",
        "#Import library train_test_split dari sklearn.model_selection\n",
        "from sklearn.model_selection import train_test_split\n",
        "\n",
        "#Import library DecisionTreeClassifier dari paket sklearn.tree\n",
        "from sklearn.tree import DecisionTreeClassifier\n",
        "\n",
        "#Import library metrics dari sklearn\n",
        "from sklearn import metrics\n",
        "\n",
        "#Import library GridSearchCV dari sklearn.model_selection\n",
        "from sklearn.model_selection import GridSearchCV\n",
        "\n",
        "#Unggah dataset yang disimpan dalam sebuah file Excel\n",
        "df = pd.read_excel('https://storage.googleapis.com/dqlab-dataset/credit_scoring_dqlab.xlsx')\n",
        "\n",
        "#Periksa sampel dari dataset dengan menjalankan perintah df.head()\n",
        "print('Lima data teratas:')\n",
        "print(df.head())\n",
        "#Periksa info dataset\n",
        "print()\n",
        "df.info()\n",
        "\n",
        "#Hapus kolom kode_kontrak dari dataframe\n",
        "df.drop(['kode_kontrak'], axis=1, inplace=True)\n",
        "\n",
        "#Hapus kolom rata_rata_overdue dari dataframe\n",
        "df.drop(['rata_rata_overdue'], axis=1, inplace=True)\n",
        "\n",
        "#Konversi tipe data \"kpr_aktif\" dari tipe string menjadi boolean\n",
        "df.loc[(df['kpr_aktif']=='YA'), 'kpr_aktif'] = True\n",
        "df.loc[(df['kpr_aktif']=='TIDAK'), 'kpr_aktif'] = False\n",
        "df['kpr_aktif'] = df['kpr_aktif'].astype('bool')\n",
        "\n",
        "#Membagi kolom menjadi variabel fitur dan variabel target\n",
        "#Variabel fitur\n",
        "feature_cols = ['pendapatan_setahun_juta', 'kpr_aktif', 'durasi_pinjaman_bulan', 'jumlah_tanggungan']\n",
        "X = df[feature_cols]\n",
        "#Variabel target\n",
        "y = df['risk_rating']\n",
        "\n",
        "#Bagi dataset menjadi training (70%) dan testing set (30%) dan seed untuk random number=42 (seed boleh bebas dipilih)\n",
        "X_train, X_test, y_train, y_test = train_test_split(X, y, test_size=0.3, random_state=42)\n",
        "\n",
        "#Buat sebuah Decision Tree Classifier dengan metode gini impurity index, kedalaman pohon=2 dan seed bilangan acak=42. Lakukan fitting model DTS dengan menggunakan training data\n",
        "dtc = DecisionTreeClassifier(criterion='gini', max_depth=2, random_state=42)\n",
        "\n",
        "#Melakukan fitting model dengan dataset training\n",
        "dtc.fit(X_train, y_train)\n",
        "\n",
        "print('\\nAkurasi untuk:', dtc)\n",
        "#Lakukan prediksi dataset training menggunakan model yang telah dibangun\n",
        "train_pred = dtc.predict(X_train)\n",
        "train_accuracy = metrics.accuracy_score(y_train, train_pred)\n",
        "print('Accuracy training:', train_accuracy)\n",
        "\n",
        "#Lakukan prediksi dataset testing menggunakan model yang telah dibangun\n",
        "test_pred = dtc.predict(X_test)\n",
        "test_accuracy = metrics.accuracy_score(y_test, test_pred)\n",
        "print('Accuracy testing :', test_accuracy)\n",
        "\n",
        "#Lakukan hyperparameter tuning dengan GridSearchCV\n",
        "tuned_parameters = [{'max_depth': [2, 4, 6, 8, 10]}]\n",
        "score = 'recall'\n",
        "\n",
        "clf = GridSearchCV(DecisionTreeClassifier(), tuned_parameters, scoring=score+'_macro')\n",
        "clf.fit(X_train, y_train)\n",
        "\n",
        "print('\\nTuning hyperparameters untuk', score)\n",
        "\n",
        "print('\\nHasil nilai uji saat melakukan tuning:')\n",
        "\n",
        "means = clf.cv_results_['mean_test_score']\n",
        "stds = clf.cv_results_['std_test_score']\n",
        "\n",
        "for mean, std, params in zip(means, stds, clf.cv_results_['params']):\n",
        "    print(f'{mean:0.3f} (+/-{std*2:0.03f}) untuk {params}')\n",
        "\n",
        "print('\\nParameter terbaik yang ditemukan:')\n",
        "print(clf.best_params_)\n",
        "\n",
        "print('\\nAkurasi untuk model terbaik:')\n",
        "#Model terbaik\n",
        "best_model = clf.best_estimator_\n",
        "\n",
        "#Lakukan prediksi dataset training menggunakan model terbaik\n",
        "train_pred_best = best_model.predict(X_train)\n",
        "train_accuracy_best = metrics.accuracy_score(y_train, train_pred_best)\n",
        "print('Accuracy training:', train_accuracy_best)\n",
        "\n",
        "#Lakukan prediksi dataset testing menggunakan model yang telah dibangun\n",
        "test_pred_best = best_model.predict(X_test)\n",
        "test_accuracy_best = metrics.accuracy_score(y_test, test_pred_best)\n",
        "print('Accuracy testing :', test_accuracy_best)"
      ],
      "metadata": {
        "colab": {
          "base_uri": "https://localhost:8080/"
        },
        "id": "YHM2ptpWAV7F",
        "outputId": "4fa0208c-4f24-4a34-c5e6-ff3a66c311dc"
      },
      "execution_count": 1,
      "outputs": [
        {
          "output_type": "stream",
          "name": "stdout",
          "text": [
            "Lima data teratas:\n",
            "  kode_kontrak  pendapatan_setahun_juta kpr_aktif  durasi_pinjaman_bulan  \\\n",
            "0   AGR-000001                      295        YA                     48   \n",
            "1   AGR-000011                      271        YA                     36   \n",
            "2   AGR-000030                      159     TIDAK                     12   \n",
            "3   AGR-000043                      210        YA                     12   \n",
            "4   AGR-000049                      165     TIDAK                     36   \n",
            "\n",
            "   jumlah_tanggungan rata_rata_overdue  risk_rating  \n",
            "0                  5      61 - 90 days            4  \n",
            "1                  5      61 - 90 days            4  \n",
            "2                  0       0 - 30 days            1  \n",
            "3                  3      46 - 60 days            3  \n",
            "4                  0      31 - 45 days            2  \n",
            "\n",
            "<class 'pandas.core.frame.DataFrame'>\n",
            "RangeIndex: 900 entries, 0 to 899\n",
            "Data columns (total 7 columns):\n",
            " #   Column                   Non-Null Count  Dtype \n",
            "---  ------                   --------------  ----- \n",
            " 0   kode_kontrak             900 non-null    object\n",
            " 1   pendapatan_setahun_juta  900 non-null    int64 \n",
            " 2   kpr_aktif                900 non-null    object\n",
            " 3   durasi_pinjaman_bulan    900 non-null    int64 \n",
            " 4   jumlah_tanggungan        900 non-null    int64 \n",
            " 5   rata_rata_overdue        900 non-null    object\n",
            " 6   risk_rating              900 non-null    int64 \n",
            "dtypes: int64(4), object(3)\n",
            "memory usage: 49.3+ KB\n",
            "\n",
            "Akurasi untuk: DecisionTreeClassifier(max_depth=2, random_state=42)\n",
            "Accuracy training: 0.7682539682539683\n",
            "Accuracy testing : 0.7333333333333333\n",
            "\n",
            "Tuning hyperparameters untuk recall\n",
            "\n",
            "Hasil nilai uji saat melakukan tuning:\n",
            "0.685 (+/-0.060) untuk {'max_depth': 2}\n",
            "0.849 (+/-0.032) untuk {'max_depth': 4}\n",
            "0.844 (+/-0.053) untuk {'max_depth': 6}\n",
            "0.846 (+/-0.057) untuk {'max_depth': 8}\n",
            "0.830 (+/-0.053) untuk {'max_depth': 10}\n",
            "\n",
            "Parameter terbaik yang ditemukan:\n",
            "{'max_depth': 4}\n",
            "\n",
            "Akurasi untuk model terbaik:\n",
            "Accuracy training: 0.8841269841269841\n",
            "Accuracy testing : 0.837037037037037\n"
          ]
        }
      ]
    }
  ]
}