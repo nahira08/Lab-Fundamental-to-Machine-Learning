{
  "nbformat": 4,
  "nbformat_minor": 0,
  "metadata": {
    "colab": {
      "provenance": []
    },
    "kernelspec": {
      "name": "python3",
      "display_name": "Python 3"
    },
    "language_info": {
      "name": "python"
    }
  },
  "cells": [
    {
      "cell_type": "markdown",
      "source": [
        "Mengulang teknik elbow method dengan percobaan rentang k dari 3 sampai 15. Kemudian tampilkan juga hasil plot dari nilai WSS yang ditampung ke dalam variable bernama wss!"
      ],
      "metadata": {
        "id": "4p9XwNSRcspQ"
      }
    },
    {
      "cell_type": "code",
      "source": [
        "#Import library pandas (Mini proyek 1)\n",
        "import pandas as pd\n",
        "data = pd.read_csv(\"https://storage.googleapis.com/dqlab-dataset/RFM_customer.csv\", encoding='utf8')\n",
        "\n",
        "#Drop kolom customer_id\n",
        "RFM_km = data.drop([\"customer_id\"], axis=1)\n",
        "\n",
        "#Penerapan RobustScaler\n",
        "from sklearn.preprocessing import RobustScaler\n",
        "robust_scaler = RobustScaler()\n",
        "RFM_robust = robust_scaler.fit_transform(RFM_km)\n",
        "RFM_robust = pd.DataFrame(RFM_robust)\n",
        "RFM_robust.columns = [\"Frequency\",\"Recency\",\"Monetary\"]\n",
        "\n",
        "#Import library K-Means\n",
        "from sklearn.cluster import KMeans\n",
        "\n",
        "#Deklarasi variable wss\n",
        "WSS = []\n",
        "\n",
        "#Melakukan k-means berkali-kali dengan nilai k yang berbeda-beda dari 3 sampai 15\n",
        "for k in range(3, 15):\n",
        "\tk_means = KMeans(n_clusters=k, random_state=0)\n",
        "\tmodel = k_means.fit(RFM_robust)\n",
        "\tWSS.append(k_means.inertia_)\n",
        "\n",
        "#Import library matplotlib.pyplot\n",
        "import matplotlib.pyplot as plt\n",
        "\n",
        "#Mengkonversi hasil ke dalam data frame, kemudian menampilkannya dalam bentuk plot\n",
        "frame = pd.DataFrame({\"Cluster\":range(3,15), \"WSS\":WSS})\n",
        "plt.figure(figsize=(8,5))\n",
        "plt.plot(frame[\"Cluster\"], frame[\"WSS\"], marker=\"o\")\n",
        "plt.xlabel(\"Number of clusters\")\n",
        "plt.ylabel(\"Inertia\")\n",
        "plt.show()"
      ],
      "metadata": {
        "id": "_zv_6tlbb61m"
      },
      "execution_count": null,
      "outputs": []
    },
    {
      "cell_type": "markdown",
      "source": [
        "Setelah melihat hasilnya, aku jadi penasaran dengan jumlah cluster k=5 sehingga aku mencoba membuat grafik boxplot untuk cluster k=5."
      ],
      "metadata": {
        "id": "LnosJBGRc39r"
      }
    },
    {
      "cell_type": "code",
      "execution_count": null,
      "metadata": {
        "id": "ks-dWti2BR8R"
      },
      "outputs": [],
      "source": [
        "#Import library pandas (Mini proyek 2)\n",
        "import pandas as pd\n",
        "data = pd.read_csv(\"https://storage.googleapis.com/dqlab-dataset/RFM_customer.csv\", encoding='utf8')\n",
        "\n",
        "#Drop kolom customer_id\n",
        "RFM_km = data.drop([\"customer_id\"], axis=1)\n",
        "\n",
        "#Penerapan RobustScaler\n",
        "from sklearn.preprocessing import RobustScaler\n",
        "robust_scaler = RobustScaler()\n",
        "RFM_robust = robust_scaler.fit_transform(RFM_km)\n",
        "RFM_robust = pd.DataFrame(RFM_robust)\n",
        "RFM_robust.columns = [\"Frequency\",\"Recency\",\"Monetary\"]\n",
        "\n",
        "#Import library K-Means\n",
        "from sklearn.cluster import KMeans\n",
        "\n",
        "#Menjalankan k-means dengan nilai k = 5\n",
        "k_means = KMeans(n_clusters=5, random_state=0)\n",
        "k_means.fit(RFM_robust)\n",
        "\n",
        "#Pred menyimpan hasil prediksi label cluster untuk setiap data\n",
        "pred = k_means.predict(RFM_robust)\n",
        "\n",
        "#Menggabungkan dataframe data dan hasil label clustering\n",
        "RFM_k5 = pd.concat([data, pd.Series(pred).rename(\"cluster\")], axis=1)\n",
        "\n",
        "#Import library matplotlib.pyplot dan seaborn\n",
        "import matplotlib.pyplot as plt\n",
        "import seaborn as sns\n",
        "\n",
        "#Menampilkan boxplot dari RFM_k5\n",
        "fig, ax = plt.subplots(1, 3, figsize=(8,6))\n",
        "sns.boxplot(x=\"cluster\", y=\"recency\", data=RFM_k5, ax=ax[0])\n",
        "sns.boxplot(x=\"cluster\", y=\"frequency\", data=RFM_k5, ax=ax[1])\n",
        "sns.boxplot(x=\"cluster\", y=\"monetary\", data=RFM_k5, ax=ax[2])\n",
        "plt.tight_layout()\n",
        "plt.show()"
      ]
    },
    {
      "cell_type": "markdown",
      "source": [
        "Setelah hasil menggunakan k=5, terlihat, aku kembali ingin mencoba untuk k=6."
      ],
      "metadata": {
        "id": "AcEPy7eVczWy"
      }
    },
    {
      "cell_type": "code",
      "source": [
        "#Import library pandas (Mini proyek 3)\n",
        "import pandas as pd\n",
        "data = pd.read_csv(\"https://storage.googleapis.com/dqlab-dataset/RFM_customer.csv\", encoding='utf8')\n",
        "\n",
        "#Drop kolom customer_id\n",
        "RFM_km = data.drop([\"customer_id\"], axis=1)\n",
        "\n",
        "#Penerapan RobustScaler\n",
        "from sklearn.preprocessing import RobustScaler\n",
        "robust_scaler = RobustScaler()\n",
        "RFM_robust = robust_scaler.fit_transform(RFM_km)\n",
        "RFM_robust = pd.DataFrame(RFM_robust)\n",
        "RFM_robust.columns = [\"Frequency\",\"Recency\",\"Monetary\"]\n",
        "\n",
        "#Import library K-Means\n",
        "from sklearn.cluster import KMeans\n",
        "\n",
        "#Menjalankan k-means dengan nilai k = 6\n",
        "k_means = KMeans(n_clusters=6, random_state=0)\n",
        "k_means.fit(RFM_robust)\n",
        "\n",
        "#Pred menyimpan hasil prediksi label cluster untuk setiap data\n",
        "pred = k_means.predict(RFM_robust)\n",
        "\n",
        "#Menggabungkan dataframe data dan hasil label clustering\n",
        "RFM_k6 = pd.concat([data, pd.Series(pred).rename(\"cluster\")], axis=1)\n",
        "\n",
        "#Import library matplotlib.pyplot dan seaborn\n",
        "import matplotlib.pyplot as plt\n",
        "import seaborn as sns\n",
        "\n",
        "#Menampilkan boxplot dari RFM_k6\n",
        "fig, ax = plt.subplots(1, 3, figsize=(10,6))\n",
        "sns.boxplot(x=\"cluster\", y=\"recency\", data=RFM_k6, ax=ax[0])\n",
        "sns.boxplot(x=\"cluster\", y=\"frequency\", data=RFM_k6, ax=ax[1])\n",
        "sns.boxplot(x=\"cluster\", y=\"monetary\", data=RFM_k6, ax=ax[2])\n",
        "plt.tight_layout()\n",
        "plt.show()"
      ],
      "metadata": {
        "id": "MJoFoCBXcRR-"
      },
      "execution_count": null,
      "outputs": []
    }
  ]
}