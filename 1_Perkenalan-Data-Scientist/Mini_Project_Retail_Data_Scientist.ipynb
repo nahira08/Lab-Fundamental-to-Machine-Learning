{
  "cells": [
    {
      "cell_type": "markdown",
      "metadata": {
        "colab_type": "text",
        "id": "view-in-github"
      },
      "source": [
        "<a href=\"https://colab.research.google.com/github/nahira08/Lab-Fundamental-to-Machine-Learning/blob/main/Mini_Project_Retail_Data_Scientist.ipynb\" target=\"_parent\"><img src=\"https://colab.research.google.com/assets/colab-badge.svg\" alt=\"Open In Colab\"/></a>"
      ]
    },
    {
      "cell_type": "code",
      "execution_count": null,
      "metadata": {
        "colab": {
          "base_uri": "https://localhost:8080/"
        },
        "id": "tSGUm4CznleG",
        "outputId": "1ecd263f-d9a9-470d-db59-a64b7b385d15"
      },
      "outputs": [
        {
          "name": "stderr",
          "output_type": "stream",
          "text": [
            "/tmp/ipython-input-1-4272718528.py:20: FutureWarning: DataFrame.applymap has been deprecated. Use DataFrame.map instead.\n",
            "  basket_encode = basket.applymap(encode_units)\n",
            "/usr/local/lib/python3.11/dist-packages/mlxtend/frequent_patterns/fpcommon.py:161: DeprecationWarning: DataFrames with non-bool types result in worse computationalperformance and their support might be discontinued in the future.Please use a DataFrame with bool type\n",
            "  warnings.warn(\n"
          ]
        },
        {
          "name": "stdout",
          "output_type": "stream",
          "text": [
            "      support                                           itemsets\n",
            "0    0.118841                                (Atasan Kaos Putih)\n",
            "1    0.380290                                (Baju Batik Wanita)\n",
            "2    0.121159                 (Baju Kaos Anak - Karakter Kartun)\n",
            "3    0.115942                     (Baju Kaos Anak - Superheroes)\n",
            "4    0.089275                               (Baju Kaos Olahraga)\n",
            "..        ...                                                ...\n",
            "744  0.049855  (Sepatu Sandal Anak, Sepatu Sekolah Hitam W, S...\n",
            "745  0.047826  (Sepatu Sandal Anak, Tali Pinggang Gesper Pria...\n",
            "746  0.045797  (Baju Batik Wanita, Shampo Biasa, Serum Vitami...\n",
            "747  0.042609  (Baju Kemeja Putih, Shampo Biasa, Serum Vitami...\n",
            "748  0.047536  (Sepatu Sekolah Hitam W, Shampo Biasa, Serum V...\n",
            "\n",
            "[749 rows x 2 columns]\n",
            "                                  antecedents  \\\n",
            "0     (Gembok Koper, Baju Renang Pria Dewasa)   \n",
            "1               (Atasan Kaos Putih, Tank Top)   \n",
            "2         (Baju Renang Pria Dewasa, Tank Top)   \n",
            "3           (Gembok Koper, Atasan Kaos Putih)   \n",
            "4     (Wedges Hitam, Baju Renang Pria Dewasa)   \n",
            "...                                       ...   \n",
            "2561                   (Celana Jogger Casual)   \n",
            "2562            (Shampo Biasa, Serum Vitamin)   \n",
            "2563              (Baju Renang Wanita Dewasa)   \n",
            "2564           (Tas Waist Bag, Serum Vitamin)   \n",
            "2565                      (Baju Kemeja Putih)   \n",
            "\n",
            "                                           consequents  antecedent support  \\\n",
            "0                        (Atasan Kaos Putih, Tank Top)            0.046087   \n",
            "1              (Gembok Koper, Baju Renang Pria Dewasa)            0.053913   \n",
            "2                    (Gembok Koper, Atasan Kaos Putih)            0.051884   \n",
            "3                  (Baju Renang Pria Dewasa, Tank Top)            0.048986   \n",
            "4                    (Gembok Koper, Atasan Kaos Putih)            0.052754   \n",
            "...                                                ...                 ...   \n",
            "2561  (Baju Kemeja Putih, Shampo Biasa, Serum Vitamin)            0.329275   \n",
            "2562                       (Baju Renang Wanita Dewasa)            0.316232   \n",
            "2563                     (Shampo Biasa, Serum Vitamin)            0.142899   \n",
            "2564                               (Baju Kemeja Putih)            0.129855   \n",
            "2565                    (Tas Waist Bag, Serum Vitamin)            0.363768   \n",
            "\n",
            "      consequent support   support  confidence       lift  representativity  \\\n",
            "0               0.053913  0.041159    0.893082  16.565226               1.0   \n",
            "1               0.046087  0.041159    0.763441  16.565226               1.0   \n",
            "2               0.048986  0.041159    0.793296  16.194506               1.0   \n",
            "3               0.051884  0.041159    0.840237  16.194506               1.0   \n",
            "4               0.048986  0.040580    0.769231  15.703232               1.0   \n",
            "...                  ...       ...         ...        ...               ...   \n",
            "2561            0.132754  0.043768    0.132923   1.001272               1.0   \n",
            "2562            0.142899  0.045217    0.142988   1.000627               1.0   \n",
            "2563            0.316232  0.045217    0.316430   1.000627               1.0   \n",
            "2564            0.363768  0.047246    0.363839   1.000196               1.0   \n",
            "2565            0.129855  0.047246    0.129880   1.000196               1.0   \n",
            "\n",
            "      leverage  conviction  zhangs_metric   jaccard  certainty  kulczynski  \n",
            "0     0.038675    8.848696       0.985030  0.699507   0.886989    0.828261  \n",
            "1     0.038675    4.032451       0.993178  0.699507   0.752012    0.828261  \n",
            "2     0.038618    4.600854       0.989595  0.689320   0.782649    0.816766  \n",
            "3     0.038618    5.934503       0.986579  0.689320   0.831494    0.816766  \n",
            "4     0.037996    4.121063       0.988464  0.663507   0.757344    0.798817  \n",
            "...        ...         ...            ...       ...        ...         ...  \n",
            "2561  0.000056    1.000195       0.001895  0.104643   0.000195    0.231308  \n",
            "2562  0.000028    1.000104       0.000916  0.109244   0.000104    0.229709  \n",
            "2563  0.000028    1.000290       0.000731  0.109244   0.000290    0.229709  \n",
            "2564  0.000009    1.000112       0.000225  0.105844   0.000112    0.246860  \n",
            "2565  0.000009    1.000029       0.000307  0.105844   0.000029    0.246860  \n",
            "\n",
            "[2566 rows x 14 columns]\n"
          ]
        }
      ],
      "source": [
        "#membaca file dengan pandas\n",
        "import pandas as pd\n",
        "\n",
        "#gunakan function yang digunakan sama dengan membaca file csv\n",
        "dataset_transaksi = pd.read_csv('https://storage.googleapis.com/dqlab-dataset/transaksi_dqlab_retail.tsv', sep='\\t')\n",
        "\n",
        "dataset_transaksi['Flag'] = 1\n",
        "\n",
        "#kelompokkan Kode Transaksi dan Nama Barang dengan menjumlahkan Flag\n",
        "basket = dataset_transaksi.groupby(['Kode Transaksi','Nama Barang'])['Flag'].sum().unstack().reset_index().fillna(0).set_index('Kode Transaksi')\n",
        "\n",
        "#Membuat function untuk menormalisasi data\n",
        "def encode_units(x):\n",
        "\tif x <= 0:\n",
        "\t\treturn 0\n",
        "\tif x > 0:\n",
        "\t\treturn 1\n",
        "\n",
        "#menerapkan fungsi yang telah dibuat untuk menormalisasi data\n",
        "basket_encode = basket.applymap(encode_units)\n",
        "\n",
        "from mlxtend.frequent_patterns import apriori\n",
        "\n",
        "#menerapkan algoritma untuk apriori parameter untuk menentukan nilai minimal dari Support\n",
        "frequent_itemset = apriori(basket_encode, min_support=0.04, use_colnames=True)\n",
        "print(frequent_itemset)\n",
        "\n",
        "from mlxtend.frequent_patterns import association_rules\n",
        "\n",
        "#menerapkan aturan untuk mencari asosiasi antar produk gunakan dataset yang telah diterapkan apriori diurutkan berdasarkan metrik yang digunakan\n",
        "rules = association_rules(frequent_itemset, metric='lift', min_threshold=1).sort_values('lift', ascending=False).reset_index(drop=True)\n",
        "print(rules)"
      ]
    }
  ],
  "metadata": {
    "colab": {
      "authorship_tag": "ABX9TyOQ3FYVAACDGolAwBpHipNo",
      "include_colab_link": true,
      "provenance": []
    },
    "kernelspec": {
      "display_name": "Python 3",
      "name": "python3"
    },
    "language_info": {
      "name": "python"
    }
  },
  "nbformat": 4,
  "nbformat_minor": 0
}
