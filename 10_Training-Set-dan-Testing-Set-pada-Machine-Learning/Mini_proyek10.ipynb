{
  "nbformat": 4,
  "nbformat_minor": 0,
  "metadata": {
    "colab": {
      "provenance": []
    },
    "kernelspec": {
      "name": "python3",
      "display_name": "Python 3"
    },
    "language_info": {
      "name": "python"
    }
  },
  "cells": [
    {
      "cell_type": "markdown",
      "source": [
        "Membaca dan Menampilkan Data | 1"
      ],
      "metadata": {
        "id": "uPYMgS38-pYu"
      }
    },
    {
      "cell_type": "code",
      "execution_count": 1,
      "metadata": {
        "colab": {
          "base_uri": "https://localhost:8080/"
        },
        "id": "bqXf10Sx9VPL",
        "outputId": "775e3c35-adee-4009-a1ed-53dcdbbacf88"
      },
      "outputs": [
        {
          "output_type": "stream",
          "name": "stdout",
          "text": [
            "  ID_Customer Jenis_kelamin  umur  membership_program using_reward  \\\n",
            "0   1005-CTMP     Perempuan    41                  36           No   \n",
            "1   1007-STSJ     Laki-laki    27                  36          Yes   \n",
            "2   1012-NCGH     Laki-laki    45                  36           No   \n",
            "3   1014-WWBN     Perempuan    33                  12           No   \n",
            "4   1024-HYUA     Perempuan    38                  12           No   \n",
            "\n",
            "      pembayaran Subscribe_brochure  harga_per_bulan  jumlah_harga_langganan  \\\n",
            "0           Cash                 No            10000                  360000   \n",
            "1  Bank Transfer              Email            10000                  360000   \n",
            "2           Cash                 No            10000                  360000   \n",
            "3  Bank Transfer                Yes            10000                  120000   \n",
            "4           Cash                 No            10000                  120000   \n",
            "\n",
            "  churn  \n",
            "0   Yes  \n",
            "1   Yes  \n",
            "2    No  \n",
            "3    No  \n",
            "4    No  \n"
          ]
        }
      ],
      "source": [
        "#meng-import library pandas, library ini dapat kita gunakan untuk membaca data dalam format excel\n",
        "import pandas as pd\n",
        "pd.set_option('display.max_column', 20)\n",
        "\n",
        "#men-load file churn_analysis_train.xlsx sebagai pandas data frame untuk mempermudah proses pengolahan data\n",
        "df = pd.read_excel('https://storage.googleapis.com/dqlab-dataset/cth_churn_analysis_train.xlsx')\n",
        "\n",
        "#perintah untuk menampilkan 5 data pertama\n",
        "print(df.head())"
      ]
    },
    {
      "cell_type": "markdown",
      "source": [
        "Mengubah Kolom Non-Numerik Menjadi Kolom Numerik | 2"
      ],
      "metadata": {
        "id": "0xNEYzLJ-uuj"
      }
    },
    {
      "cell_type": "code",
      "source": [
        "#Kode program sebelumnya\n",
        "import pandas as pd\n",
        "pd.set_option('display.max_column', 20)\n",
        "\n",
        "df = pd.read_excel('https://storage.googleapis.com/dqlab-dataset/cth_churn_analysis_train.xlsx')\n",
        "\n",
        "#menghilangkan kolom id dari data frame dikarenakan kolom id tidak relevan untuk dijadikan input ataupun output dalam tugas klasifikasi\n",
        "df.drop('ID_Customer', axis=1, inplace=True)\n",
        "\n",
        "#mengubah nilai \"Perempuan\" menjadi 1 dan \"Laki-laki\" menjadi 0\n",
        "df['Jenis_kelamin']= df['Jenis_kelamin'].map(\n",
        "\tlambda value: 1 if value == 'Perempuan' else 0)\n",
        "\n",
        "#mengubah nilai using_reward \"Yes\" menjadi 1 dan \"No\" menjadi 0\n",
        "df['using_reward']= df['using_reward'].map(\n",
        "\tlambda value: 1 if value == 'Yes' else 0)\n",
        "\n",
        "#mengubah nilai pembayaran \"Credit\" menjadi 2, \"Bank Transfer\" menjadi 1 dan \"Cash\" menjadi 0\n",
        "df['pembayaran']= df['pembayaran'].map(\n",
        "    lambda value: 2 if value == 'Credit'\n",
        "    else 1 if value == 'Bank Transfer'\n",
        "    else 0)\n",
        "\n",
        "#mengubah nilai subskripsi brosur \"No\" menjadi 0 dan nilai lainnya (\"Email\" dan \"Yes\") menjadi 1\n",
        "df['Subscribe_brochure']= df['Subscribe_brochure'].map(\n",
        "    lambda value: 0 if value == 'No'  else 1)\n",
        "\n",
        "#mengubah nilai \"Yes\" menjadi 1 dan \"No\" menjadi 0\n",
        "df['churn'] = df['churn'].map(\n",
        "\tlambda value: 1 if value == 'Yes' else 0)\n",
        "\n",
        "#menampilkan isi dari variabel 'df' setelah perubahan\n",
        "print(df.head())"
      ],
      "metadata": {
        "colab": {
          "base_uri": "https://localhost:8080/"
        },
        "id": "HrYoQxB9-yYT",
        "outputId": "c3377193-6f1d-4b8b-d932-b970b8a7a111"
      },
      "execution_count": 2,
      "outputs": [
        {
          "output_type": "stream",
          "name": "stdout",
          "text": [
            "   Jenis_kelamin  umur  membership_program  using_reward  pembayaran  \\\n",
            "0              1    41                  36             0           0   \n",
            "1              0    27                  36             1           1   \n",
            "2              0    45                  36             0           0   \n",
            "3              1    33                  12             0           1   \n",
            "4              1    38                  12             0           0   \n",
            "\n",
            "   Subscribe_brochure  harga_per_bulan  jumlah_harga_langganan  churn  \n",
            "0                   0            10000                  360000      1  \n",
            "1                   1            10000                  360000      1  \n",
            "2                   0            10000                  360000      0  \n",
            "3                   1            10000                  120000      0  \n",
            "4                   0            10000                  120000      0  \n"
          ]
        }
      ]
    },
    {
      "cell_type": "markdown",
      "source": [
        "Feature Matrix dan Target | 3"
      ],
      "metadata": {
        "id": "xtIje9-uAErw"
      }
    },
    {
      "cell_type": "code",
      "source": [
        "#Kode program sebelumnya\n",
        "import pandas as pd\n",
        "pd.set_option('display.max_column', 20)\n",
        "\n",
        "df = pd.read_excel('https://storage.googleapis.com/dqlab-dataset/cth_churn_analysis_train.xlsx')\n",
        "\n",
        "df.drop('ID_Customer', axis=1, inplace=True)\n",
        "\n",
        "df['Jenis_kelamin']= df['Jenis_kelamin'].map(\n",
        "   lambda value: 1 if value == 'Perempuan' else 0)\n",
        "\n",
        "df['using_reward']= df['using_reward'].map(\n",
        "   lambda value: 1 if value == 'Yes' else 0)\n",
        "\n",
        "df['pembayaran']= df['pembayaran'].map(\n",
        "    lambda value: 2 if value == 'Credit'\n",
        "    else 1 if value == 'Bank Transfer'\n",
        "    else 0)\n",
        "\n",
        "df['Subscribe_brochure']= df['Subscribe_brochure'].map(\n",
        "    lambda value: 0 if value == 'No'  else 1)\n",
        "\n",
        "df['churn'] = df['churn'].map(\n",
        "   lambda value: 1 if value == 'Yes' else 0)\n",
        "\n",
        "#menyimpan atribut diagnosis ke dalam variabel y dan disimpan ke dalam array 1D atau array target\n",
        "y = df.pop('churn').to_numpy()\n",
        "\n",
        "#mengubah seluruh data dalam df ke dalam format array 2D atau matrix feature X (jumlah data, jumlah atribut)\n",
        "X = df.to_numpy()\n",
        "\n",
        "#memastikan jumlah data dan jumlah atribut data input\n",
        "print('X:', X.shape)\n",
        "#memastikan jumlah data pada variabel y\n",
        "print('y:', y.shape)"
      ],
      "metadata": {
        "colab": {
          "base_uri": "https://localhost:8080/"
        },
        "id": "ukOLXChxAKLr",
        "outputId": "269a39c2-0781-4910-b159-eaaff010b8f7"
      },
      "execution_count": 3,
      "outputs": [
        {
          "output_type": "stream",
          "name": "stdout",
          "text": [
            "X: (499, 8)\n",
            "y: (499,)\n"
          ]
        }
      ]
    },
    {
      "cell_type": "markdown",
      "source": [
        "Akurasi Data Training | 4"
      ],
      "metadata": {
        "id": "-YcyUfCtAcya"
      }
    },
    {
      "cell_type": "code",
      "source": [
        "#Kode program sebelumnya\n",
        "import pandas as pd\n",
        "pd.set_option('display.max_column', 20)\n",
        "\n",
        "df = pd.read_excel('https://storage.googleapis.com/dqlab-dataset/cth_churn_analysis_train.xlsx')\n",
        "\n",
        "df.drop('ID_Customer', axis=1, inplace=True)\n",
        "\n",
        "df['Jenis_kelamin']= df['Jenis_kelamin'].map(\n",
        "   lambda value: 1 if value == 'Perempuan' else 0)\n",
        "\n",
        "df['using_reward']= df['using_reward'].map(\n",
        "   lambda value: 1 if value == 'Yes' else 0)\n",
        "\n",
        "df['pembayaran']= df['pembayaran'].map(\n",
        "    lambda value: 2 if value == 'Credit'\n",
        "    else 1 if value == 'Bank Transfer'\n",
        "    else 0)\n",
        "\n",
        "df['Subscribe_brochure']= df['Subscribe_brochure'].map(\n",
        "    lambda value: 0 if value == 'No'  else 1)\n",
        "\n",
        "df['churn'] = df['churn'].map(\n",
        "    lambda value: 1 if value == 'Yes' else 0)\n",
        "\n",
        "y = df.pop('churn').to_numpy()\n",
        "\n",
        "X = df.to_numpy()\n",
        "\n",
        "#mengimport model 'DecisionTreeClassifier' dari library scikit-learn tepatnya dari modul tree.\n",
        "from sklearn.tree import DecisionTreeClassifier\n",
        "\n",
        "#inisialisasi model\n",
        "model = DecisionTreeClassifier(random_state=12)\n",
        "\n",
        "#melatih model berdasarkan data input (X) dan label (y)\n",
        "model.fit(X, y)\n",
        "\n",
        "#melakukan prediksi terhadap setiap data dalam X dan menyimpan hasil prediksi dalam array 'y_pred'\n",
        "y_pred = model.predict(X)\n",
        "\n",
        "#mengimport fungsi untuk menghitung akurasi dari library scikit-learn tepatnya dari modul metrics.\n",
        "from sklearn.metrics import accuracy_score\n",
        "\n",
        "#menghitung nilai akurasi dari hasil prediksi (y_pred) dengan label aktual yang dimiliki oleh setiap data (y) nilai akurasi dihitung dengan menggunakan total prediksi benar dibagi dengan total data yang diprediksi\n",
        "score = accuracy_score(y,y_pred)\n",
        "\n",
        "#menampilkan hasil akurasi dalam persen\n",
        "print('Hasil akurasi model: %.2f %%' % (100*score))"
      ],
      "metadata": {
        "colab": {
          "base_uri": "https://localhost:8080/"
        },
        "id": "johdZiXiAfu0",
        "outputId": "f751fda4-2aaf-4084-cd3a-d22b800dfa02"
      },
      "execution_count": 1,
      "outputs": [
        {
          "output_type": "stream",
          "name": "stdout",
          "text": [
            "Hasil akurasi model: 90.78 %\n"
          ]
        }
      ]
    },
    {
      "cell_type": "markdown",
      "source": [
        "Train and Test Split - Praktikum | 5"
      ],
      "metadata": {
        "id": "u23GOIkOmJFp"
      }
    },
    {
      "cell_type": "code",
      "source": [
        "#Kode program sebelumnya\n",
        "import pandas as pd\n",
        "pd.set_option('display.max_column', 20)\n",
        "\n",
        "df = pd.read_excel('https://storage.googleapis.com/dqlab-dataset/cth_churn_analysis_train.xlsx')\n",
        "\n",
        "df.drop('ID_Customer', axis=1, inplace=True)\n",
        "\n",
        "df['Jenis_kelamin']= df['Jenis_kelamin'].map(\n",
        "   lambda value: 1 if value == 'Perempuan' else 0)\n",
        "\n",
        "df['using_reward']= df['using_reward'].map(\n",
        "   lambda value: 1 if value == 'Yes' else 0)\n",
        "\n",
        "df['pembayaran']= df['pembayaran'].map(\n",
        "    lambda value: 2 if value == 'Credit'\n",
        "    else 1 if value == 'Bank Transfer'\n",
        "    else 0)\n",
        "\n",
        "df['Subscribe_brochure']= df['Subscribe_brochure'].map(\n",
        "    lambda value: 0 if value == 'No'  else 1)\n",
        "\n",
        "df['churn'] = df['churn'].map(\n",
        "    lambda value: 1 if value == 'Yes' else 0)\n",
        "\n",
        "y = df.pop('churn').to_numpy()\n",
        "\n",
        "X = df.to_numpy()\n",
        "\n",
        "#fungsi untuk membagi data dan label ke dalam dua bagian (data latih dan data testing) secara acak tersedia dalam library scikit-learn.model_selection\n",
        "from sklearn.model_selection import train_test_split\n",
        "\n",
        "#X_train dan y_train akan kita gunakan sebagai data untuk melatih model X_test dan y_test akan kita gunakan sebagai data testing untuk mengetahui kemampuan model untuk data yang belum pernah ia jumpai\n",
        "X_train, X_test, y_train, y_test = train_test_split(X, y, test_size=0.2, random_state=12)\n",
        "\n",
        "from sklearn.tree import DecisionTreeClassifier\n",
        "\n",
        "model = DecisionTreeClassifier(random_state=12)\n",
        "\n",
        "#melatih model berdasarkan data latih (X_train) dan labelnya (y_train)\n",
        "model.fit(X_train,y_train)\n",
        "\n",
        "#melakukan prediksi terhadap setiap data testing (X_test) dan menyimpan hasil prediksi dalam array 'y_pred'\n",
        "y_pred = model.predict(X_test)\n",
        "\n",
        "#mengimport fungsi untuk menghitung akurasi dari library scikit-learn tepatnya dari modul metrics.\n",
        "from sklearn.metrics import accuracy_score\n",
        "\n",
        "#menghitung nilai akurasi dari hasil prediksi (y_pred) dengan label aktual yang dimiliki oleh setiap data test (y_test)\n",
        "score = accuracy_score(y_test,y_pred)\n",
        "\n",
        "#menampilkan hasil akurasi dalam persen\n",
        "print('Hasil akurasi model: %.2f %%' % (100*score))"
      ],
      "metadata": {
        "colab": {
          "base_uri": "https://localhost:8080/"
        },
        "id": "gV5MOgcNsjgb",
        "outputId": "5ef6db98-78fa-4966-d0ce-8c0dbcb32a28"
      },
      "execution_count": 2,
      "outputs": [
        {
          "output_type": "stream",
          "name": "stdout",
          "text": [
            "Hasil akurasi model: 46.00 %\n"
          ]
        }
      ]
    },
    {
      "cell_type": "markdown",
      "source": [
        "K-Fold Cross Validation - Praktikum | 6"
      ],
      "metadata": {
        "id": "EqjUnJszthZn"
      }
    },
    {
      "cell_type": "code",
      "source": [
        "#Kode program sebelumnya\n",
        "import pandas as pd\n",
        "pd.set_option('display.max_column', 20)\n",
        "\n",
        "df = pd.read_excel('https://storage.googleapis.com/dqlab-dataset/cth_churn_analysis_train.xlsx')\n",
        "\n",
        "df.drop('ID_Customer', axis=1, inplace=True)\n",
        "\n",
        "df['Jenis_kelamin']= df['Jenis_kelamin'].map(\n",
        "   lambda value: 1 if value == 'Perempuan' else 0)\n",
        "\n",
        "df['using_reward']= df['using_reward'].map(\n",
        "   lambda value: 1 if value == 'Yes' else 0)\n",
        "\n",
        "df['pembayaran']= df['pembayaran'].map(\n",
        "    lambda value: 2 if value == 'Credit'\n",
        "    else 1 if value == 'Bank Transfer'\n",
        "    else 0)\n",
        "\n",
        "df['Subscribe_brochure']= df['Subscribe_brochure'].map(\n",
        "    lambda value: 0 if value == 'No'  else 1)\n",
        "\n",
        "df['churn'] = df['churn'].map(\n",
        "    lambda value: 1 if value == 'Yes' else 0)\n",
        "\n",
        "y = df.pop('churn').to_numpy()\n",
        "X = df.to_numpy()\n",
        "\n",
        "#mengimport fungsi K-Fold dari modul model_selection pada library scikit-learn\n",
        "from sklearn.model_selection import KFold\n",
        "\n",
        "from sklearn.tree import DecisionTreeClassifier\n",
        "from sklearn.metrics import accuracy_score\n",
        "\n",
        "#men-set nilai K = 10\n",
        "kf = KFold(n_splits= 10, shuffle=True,random_state = 12)\n",
        "\n",
        "#menyesuaikan nilai K dengan jumlah data pada variabel X\n",
        "kf.get_n_splits(X)\n",
        "\n",
        "#mengulangi proses pelatihan dan evaluasi pada setiap kelompok data yang telah dibagi melalui object KFold\n",
        "for train_index, test_index in kf.split(X):\n",
        "\tX_train, X_test = X[train_index], X[test_index]\n",
        "\ty_train, y_test = y[train_index], y[test_index]\n",
        "\tmodel = DecisionTreeClassifier(random_state=12)\n",
        "\tmodel.fit(X_train,y_train)\n",
        "\n",
        "\ty_pred = model.predict(X_test)\n",
        "\tscore = accuracy_score(y_test,y_pred)\n",
        "\n",
        "\tprint('Hasil akurasi model: %.2f %%' % (100*score))"
      ],
      "metadata": {
        "colab": {
          "base_uri": "https://localhost:8080/"
        },
        "id": "qL4DHL3dtqcP",
        "outputId": "a7d84ab1-382a-4a6b-e034-cf90e79bef3c"
      },
      "execution_count": 3,
      "outputs": [
        {
          "output_type": "stream",
          "name": "stdout",
          "text": [
            "Hasil akurasi model: 56.00 %\n",
            "Hasil akurasi model: 56.00 %\n",
            "Hasil akurasi model: 54.00 %\n",
            "Hasil akurasi model: 34.00 %\n",
            "Hasil akurasi model: 56.00 %\n",
            "Hasil akurasi model: 48.00 %\n",
            "Hasil akurasi model: 44.00 %\n",
            "Hasil akurasi model: 56.00 %\n",
            "Hasil akurasi model: 60.00 %\n",
            "Hasil akurasi model: 42.86 %\n"
          ]
        }
      ]
    },
    {
      "cell_type": "markdown",
      "source": [
        "Akurasi Rata-Rata Model Klasifikasi | 7"
      ],
      "metadata": {
        "id": "c7vPenQhuIsB"
      }
    },
    {
      "cell_type": "code",
      "source": [
        "#Kode program sebelumnya\n",
        "import pandas as pd\n",
        "pd.set_option('display.max_column', 20)\n",
        "\n",
        "df = pd.read_excel('https://storage.googleapis.com/dqlab-dataset/cth_churn_analysis_train.xlsx')\n",
        "\n",
        "df.drop('ID_Customer', axis=1, inplace=True)\n",
        "\n",
        "df['Jenis_kelamin']= df['Jenis_kelamin'].map(\n",
        "   lambda value: 1 if value == 'Perempuan' else 0)\n",
        "\n",
        "df['using_reward']= df['using_reward'].map(\n",
        "   lambda value: 1 if value == 'Yes' else 0)\n",
        "\n",
        "df['pembayaran']= df['pembayaran'].map(\n",
        "    lambda value: 2 if value == 'Credit'\n",
        "    else 1 if value == 'Bank Transfer'\n",
        "    else 0)\n",
        "\n",
        "df['Subscribe_brochure']= df['Subscribe_brochure'].map(\n",
        "    lambda value: 0 if value == 'No'  else 1)\n",
        "\n",
        "df['churn'] = df['churn'].map(\n",
        "    lambda value: 1 if value == 'Yes' else 0)\n",
        "\n",
        "y = df.pop('churn').to_numpy()\n",
        "X = df.to_numpy()\n",
        "\n",
        "#mengimport fungsi KFold dari modul model_selection pada library scikit-learn\n",
        "from sklearn.model_selection import KFold\n",
        "\n",
        "from sklearn.tree import DecisionTreeClassifier\n",
        "from sklearn.metrics import accuracy_score\n",
        "\n",
        "#men-set nilai K = 10\n",
        "kf = KFold(n_splits= 10, shuffle=True,random_state = 12)\n",
        "\n",
        "#menyesuaikan nilai K dengan jumlah data pada variabel X\n",
        "kf.get_n_splits(X)\n",
        "\n",
        "total_score = 0\n",
        "\n",
        "#mengulangi proses pelatihan dan evaluasi pada setiap kelompok data yang telah dibagi melalui object KFold\n",
        "for train_index, test_index in kf.split(X):\n",
        "\tX_train, X_test = X[train_index], X[test_index]\n",
        "\ty_train, y_test = y[train_index], y[test_index]\n",
        "\n",
        "\tmodel = DecisionTreeClassifier(random_state=12)\n",
        "\tmodel.fit(X_train,y_train)\n",
        "\n",
        "\ty_pred = model.predict(X_test)\n",
        "\tscore = accuracy_score(y_test,y_pred)\n",
        "\n",
        "\ttotal_score += score\n",
        "\tprint('Hasil akurasi model: %.2f %%' % (100*score))\n",
        "\n",
        "print('\\nRata-rata akurasi model: %.2f %%' % (100*total_score/10))"
      ],
      "metadata": {
        "colab": {
          "base_uri": "https://localhost:8080/"
        },
        "id": "L_pZrYEAuL6y",
        "outputId": "eabcb0b8-9e0f-48bc-b118-c4cbf1ac7346"
      },
      "execution_count": 4,
      "outputs": [
        {
          "output_type": "stream",
          "name": "stdout",
          "text": [
            "Hasil akurasi model: 56.00 %\n",
            "Hasil akurasi model: 56.00 %\n",
            "Hasil akurasi model: 54.00 %\n",
            "Hasil akurasi model: 34.00 %\n",
            "Hasil akurasi model: 56.00 %\n",
            "Hasil akurasi model: 48.00 %\n",
            "Hasil akurasi model: 44.00 %\n",
            "Hasil akurasi model: 56.00 %\n",
            "Hasil akurasi model: 60.00 %\n",
            "Hasil akurasi model: 42.86 %\n",
            "\n",
            "Rata-rata akurasi model: 50.69 %\n"
          ]
        }
      ]
    },
    {
      "cell_type": "markdown",
      "source": [
        "Confusion Matrix - Praktikum | 8"
      ],
      "metadata": {
        "id": "7-dXUM_Uuda1"
      }
    },
    {
      "cell_type": "code",
      "source": [
        "#Kode program sebelumnya\n",
        "import pandas as pd\n",
        "pd.set_option('display.max_column', 20)\n",
        "\n",
        "df = pd.read_excel('https://storage.googleapis.com/dqlab-dataset/cth_churn_analysis_train.xlsx')\n",
        "\n",
        "df.drop('ID_Customer', axis=1, inplace=True)\n",
        "\n",
        "df['Jenis_kelamin']= df['Jenis_kelamin'].map(\n",
        "   lambda value: 1 if value == 'Perempuan' else 0)\n",
        "\n",
        "df['using_reward']= df['using_reward'].map(\n",
        "   lambda value: 1 if value == 'Yes' else 0)\n",
        "\n",
        "df['pembayaran']= df['pembayaran'].map(\n",
        "    lambda value: 2 if value == 'Credit'\n",
        "    else 1 if value == 'Bank Transfer'\n",
        "    else 0)\n",
        "\n",
        "df['Subscribe_brochure']= df['Subscribe_brochure'].map(\n",
        "    lambda value: 0 if value == 'No'  else 1)\n",
        "\n",
        "df['churn'] = df['churn'].map(\n",
        "    lambda value: 1 if value == 'Yes' else 0)\n",
        "\n",
        "y = df.pop('churn').to_numpy()\n",
        "X = df.to_numpy()\n",
        "\n",
        "from sklearn.model_selection import KFold\n",
        "from sklearn.tree import DecisionTreeClassifier\n",
        "\n",
        "#library yang dapat kita gunakan untuk menghitung nilai confusion matrix\n",
        "from sklearn.metrics import confusion_matrix\n",
        "\n",
        "kf = KFold(n_splits=10, shuffle=True, random_state=12)\n",
        "\n",
        "kf.get_n_splits(X)\n",
        "\n",
        "#menyiapkan array berukuran 2 * 2 untuk  menyimpan informasi confusion matrix\n",
        "import numpy as np\n",
        "cm_result = np.zeros((2,2))\n",
        "for train_index,test_index in kf.split(X):\n",
        "\tX_train, X_test = X[train_index], X[test_index]\n",
        "\ty_train, y_test = y[train_index], y[test_index]\n",
        "\n",
        "\tmodel = DecisionTreeClassifier(random_state=12)\n",
        "\tmodel.fit(X_train,y_train)\n",
        "\n",
        "\ty_pred = model.predict(X_test)\n",
        "\n",
        "\t#menghitung nilai confusion matrix berdasarkan label sebenarnya dan label hasil prediksi model\n",
        "\tcm_result += confusion_matrix(y_test, y_pred)\n",
        "\n",
        "print('Confusion Matrix untuk K-Fold = 10')\n",
        "print(cm_result)"
      ],
      "metadata": {
        "colab": {
          "base_uri": "https://localhost:8080/"
        },
        "id": "iHZI121zulxt",
        "outputId": "c87c9751-9552-48ab-fe00-cf51b28d8815"
      },
      "execution_count": 5,
      "outputs": [
        {
          "output_type": "stream",
          "name": "stdout",
          "text": [
            "Confusion Matrix untuk K-Fold = 10\n",
            "[[125. 112.]\n",
            " [134. 128.]]\n"
          ]
        }
      ]
    },
    {
      "cell_type": "markdown",
      "source": [
        "Precision, Recall, dan F1-Score - Praktikum | 9"
      ],
      "metadata": {
        "id": "YUqj1QAWvEjT"
      }
    },
    {
      "cell_type": "code",
      "source": [
        "#Kode program sebelumnya\n",
        "import pandas as pd\n",
        "pd.set_option('display.max_column', 20)\n",
        "\n",
        "df = pd.read_excel('https://storage.googleapis.com/dqlab-dataset/cth_churn_analysis_train.xlsx')\n",
        "\n",
        "df.drop('ID_Customer', axis=1, inplace=True)\n",
        "\n",
        "df['Jenis_kelamin']= df['Jenis_kelamin'].map(\n",
        "   lambda value: 1 if value == 'Perempuan' else 0)\n",
        "\n",
        "df['using_reward']= df['using_reward'].map(\n",
        "   lambda value: 1 if value == 'Yes' else 0)\n",
        "\n",
        "df['pembayaran']= df['pembayaran'].map(\n",
        "    lambda value: 2 if value == 'Credit'\n",
        "    else 1 if value == 'Bank Transfer'\n",
        "    else 0)\n",
        "\n",
        "df['Subscribe_brochure']= df['Subscribe_brochure'].map(\n",
        "    lambda value: 0 if value == 'No'  else 1)\n",
        "\n",
        "df['churn'] = df['churn'].map(\n",
        "    lambda value: 1 if value == 'Yes' else 0)\n",
        "\n",
        "y = df.pop('churn').to_numpy()\n",
        "X = df.to_numpy()\n",
        "\n",
        "#library yang dapat kita gunakan untuk menghitung nilai precision, recall dan F1-Score\n",
        "from sklearn.model_selection import KFold\n",
        "from sklearn.tree import DecisionTreeClassifier\n",
        "\n",
        "#library yang dapat kita gunakan untuk menghitung nilai precision, recall dan F1-Score\n",
        "from sklearn.metrics import classification_report\n",
        "\n",
        "kf = KFold(n_splits=10, shuffle=True, random_state=12)\n",
        "\n",
        "kf.get_n_splits(X)\n",
        "\n",
        "#variabel untuk menyimpan label ground-truth atau label referensi dari setiap iterasi\n",
        "y_true_all = []\n",
        "\n",
        "#variabel untuk menyimpan label hasil prediksi dari setiap iterasi\n",
        "y_pred_all = []\n",
        "\n",
        "for train_index, test_index in kf.split(X):\n",
        "\tX_train, X_test = X[train_index], X[test_index]\n",
        "\ty_train, y_test = y[train_index], y[test_index]\n",
        "\n",
        "\tmodel = DecisionTreeClassifier(random_state=12)\n",
        "\tmodel.fit(X_train,y_train)\n",
        "\n",
        "\ty_pred = model.predict(X_test)\n",
        "\n",
        "\t#menambahkan label ground_truth ke dalam variabel\n",
        "\ty_true_all.extend(y_test)\n",
        "\t#menambahkan label prediksi ke dalam variabel\n",
        "\ty_pred_all.extend(y_pred)\n",
        "\n",
        "print(classification_report(y_true_all, y_pred_all))"
      ],
      "metadata": {
        "colab": {
          "base_uri": "https://localhost:8080/"
        },
        "id": "0Qcx6OvnvLbB",
        "outputId": "54aa24af-4371-4a75-cbae-72da8e85f0f6"
      },
      "execution_count": 6,
      "outputs": [
        {
          "output_type": "stream",
          "name": "stdout",
          "text": [
            "              precision    recall  f1-score   support\n",
            "\n",
            "           0       0.48      0.53      0.50       237\n",
            "           1       0.53      0.49      0.51       262\n",
            "\n",
            "    accuracy                           0.51       499\n",
            "   macro avg       0.51      0.51      0.51       499\n",
            "weighted avg       0.51      0.51      0.51       499\n",
            "\n"
          ]
        }
      ]
    },
    {
      "cell_type": "markdown",
      "source": [
        "Precision & Recall Trade off - Praktikum | 10"
      ],
      "metadata": {
        "id": "jdlwWrhwwIwz"
      }
    },
    {
      "cell_type": "code",
      "source": [
        "#Kode program sebelumnya\n",
        "import pandas as pd\n",
        "pd.set_option('display.max_column', 20)\n",
        "\n",
        "df = pd.read_excel('https://storage.googleapis.com/dqlab-dataset/cth_churn_analysis_train.xlsx')\n",
        "\n",
        "df.drop('ID_Customer', axis=1, inplace=True)\n",
        "\n",
        "df['Jenis_kelamin']= df['Jenis_kelamin'].map(\n",
        "   lambda value: 1 if value == 'Perempuan' else 0)\n",
        "\n",
        "df['using_reward']= df['using_reward'].map(\n",
        "   lambda value: 1 if value == 'Yes' else 0)\n",
        "\n",
        "df['pembayaran']= df['pembayaran'].map(\n",
        "    lambda value: 2 if value == 'Credit'\n",
        "    else 1 if value == 'Bank Transfer'\n",
        "    else 0)\n",
        "\n",
        "df['Subscribe_brochure']= df['Subscribe_brochure'].map(\n",
        "    lambda value: 0 if value == 'No'  else 1)\n",
        "\n",
        "df['churn'] = df['churn'].map(\n",
        "    lambda value: 1 if value == 'Yes' else 0)\n",
        "\n",
        "y = df.pop('churn').to_numpy()\n",
        "X = df.to_numpy()\n",
        "\n",
        "from sklearn.model_selection import KFold\n",
        "from sklearn.tree import DecisionTreeClassifier\n",
        "\n",
        "#library yang dapat kita gunakan untuk menghitung nilai precision recall trade-off\n",
        "from sklearn.metrics import precision_recall_curve\n",
        "\n",
        "kf = KFold(n_splits=10, shuffle=True, random_state=12)\n",
        "kf.get_n_splits(X)\n",
        "\n",
        "#variabel untuk menyimpan label ground-truth atau label referensi dari setiap iterasi\n",
        "y_true_all = []\n",
        "\n",
        "#variabel untuk menyimpan label hasil prediksi dari setiap iterasi\n",
        "y_pred_all = []\n",
        "\n",
        "for train_index, test_index in kf.split(X):\n",
        "\tX_train, X_test = X[train_index], X[test_index]\n",
        "\ty_train, y_test = y[train_index], y[test_index]\n",
        "\n",
        "\tmodel = DecisionTreeClassifier(random_state=12)\n",
        "\tmodel.fit(X_train,y_train)\n",
        "\n",
        "\ty_pred = model.predict_proba(X_test)\n",
        "\n",
        "\t#menambahkan label ground_truth ke dalam variabel\n",
        "\ty_true_all.extend(y_test)\n",
        "\t#menambahkan label prediksi ke dalam variabel\n",
        "\ty_pred_all.extend(y_pred[:,1])\n",
        "\n",
        "precisions, recalls, thresholds = precision_recall_curve(y_true_all, y_pred_all)\n",
        "\n",
        "#mengiterasi setiap nilai threshold, precision dan recall yang dihasilkan oleh fungsi precision_recall_curve\n",
        "for i in range(0,len(thresholds)):\n",
        "\tprint('Saat nilai threshold: %.2f maka nilai Precision: %.2f dan Recall: %.2f' % (thresholds[i], precisions[i], recalls[i]))"
      ],
      "metadata": {
        "colab": {
          "base_uri": "https://localhost:8080/"
        },
        "id": "JnvgrC7_wPMx",
        "outputId": "0e31bedd-fb5f-4284-ee4a-9115a80afcb5"
      },
      "execution_count": 7,
      "outputs": [
        {
          "output_type": "stream",
          "name": "stdout",
          "text": [
            "Saat nilai threshold: 0.00 maka nilai Precision: 0.53 dan Recall: 1.00\n",
            "Saat nilai threshold: 0.33 maka nilai Precision: 0.52 dan Recall: 0.56\n",
            "Saat nilai threshold: 0.50 maka nilai Precision: 0.52 dan Recall: 0.56\n",
            "Saat nilai threshold: 0.67 maka nilai Precision: 0.53 dan Recall: 0.49\n",
            "Saat nilai threshold: 1.00 maka nilai Precision: 0.53 dan Recall: 0.48\n"
          ]
        }
      ]
    },
    {
      "cell_type": "markdown",
      "source": [
        "Visualisasi Precision & Recall Trade off | 11"
      ],
      "metadata": {
        "id": "bpmLghpzxDg4"
      }
    },
    {
      "cell_type": "code",
      "source": [
        "#Kode program sebelumnya\n",
        "import pandas as pd\n",
        "pd.set_option('display.max_column', 20)\n",
        "\n",
        "df = pd.read_excel('https://storage.googleapis.com/dqlab-dataset/cth_churn_analysis_train.xlsx')\n",
        "\n",
        "df.drop('ID_Customer', axis=1, inplace=True)\n",
        "\n",
        "df['Jenis_kelamin']= df['Jenis_kelamin'].map(\n",
        "   lambda value: 1 if value == 'Perempuan' else 0)\n",
        "\n",
        "df['using_reward']= df['using_reward'].map(\n",
        "   lambda value: 1 if value == 'Yes' else 0)\n",
        "\n",
        "df['pembayaran']= df['pembayaran'].map(\n",
        "    lambda value: 2 if value == 'Credit'\n",
        "    else 1 if value == 'Bank Transfer'\n",
        "    else 0)\n",
        "\n",
        "df['Subscribe_brochure']= df['Subscribe_brochure'].map(\n",
        "    lambda value: 0 if value == 'No'  else 1)\n",
        "\n",
        "df['churn'] = df['churn'].map(\n",
        "    lambda value: 1 if value == 'Yes' else 0)\n",
        "\n",
        "y = df.pop('churn').to_numpy()\n",
        "X = df.to_numpy()\n",
        "\n",
        "from sklearn.model_selection import KFold\n",
        "from sklearn.tree import DecisionTreeClassifier\n",
        "from sklearn.metrics import precision_recall_curve\n",
        "\n",
        "kf = KFold(n_splits=10, shuffle=True, random_state=12)\n",
        "kf.get_n_splits(X)\n",
        "\n",
        "y_true_all = []\n",
        "y_pred_all = []\n",
        "for train_index, test_index in kf.split(X):\n",
        "    X_train, X_test = X[train_index], X[test_index]\n",
        "    y_train, y_test = y[train_index], y[test_index]\n",
        "\n",
        "    model = DecisionTreeClassifier(random_state=12)\n",
        "    model.fit(X_train,y_train)\n",
        "\n",
        "    y_pred = model.predict_proba(X_test)\n",
        "\n",
        "    y_true_all.extend(y_test)\n",
        "    y_pred_all.extend(y_pred[:,1])\n",
        "\n",
        "precisions, recalls, thresholds = precision_recall_curve(y_true_all, y_pred_all)\n",
        "\n",
        "import matplotlib.pyplot as plt\n",
        "\n",
        "plt.plot(recalls, precisions, marker='.', label='Decision Tree')\n",
        "\n",
        "#axis labels\n",
        "plt.xlabel('Recall')\n",
        "plt.ylabel('Precision')\n",
        "plt.title(\"Precision Recall Tradeoff untuk Kelas 1\")\n",
        "\n",
        "#show the legend\n",
        "plt.legend()\n",
        "\n",
        "#show the plot\n",
        "plt.show()"
      ],
      "metadata": {
        "colab": {
          "base_uri": "https://localhost:8080/",
          "height": 472
        },
        "id": "xfHFHtV9xRez",
        "outputId": "6f053c8f-747e-4340-82bb-7f280a5491a3"
      },
      "execution_count": 8,
      "outputs": [
        {
          "output_type": "display_data",
          "data": {
            "text/plain": [
              "<Figure size 640x480 with 1 Axes>"
            ],
            "image/png": "[encoded data removed]"
          },
          "metadata": {}
        }
      ]
    },
    {
      "cell_type": "markdown",
      "source": [
        "Matthews Correlation Coefficient - Praktikum | 12"
      ],
      "metadata": {
        "id": "zMUAWYrCx3p6"
      }
    },
    {
      "cell_type": "code",
      "source": [
        "#Kode program sebelumnya\n",
        "import pandas as pd\n",
        "pd.set_option('display.max_column', 20)\n",
        "\n",
        "df = pd.read_excel('https://storage.googleapis.com/dqlab-dataset/cth_churn_analysis_train.xlsx')\n",
        "\n",
        "df.drop('ID_Customer', axis=1, inplace=True)\n",
        "\n",
        "df['Jenis_kelamin']= df['Jenis_kelamin'].map(\n",
        "   lambda value: 1 if value == 'Perempuan' else 0)\n",
        "\n",
        "df['using_reward']= df['using_reward'].map(\n",
        "   lambda value: 1 if value == 'Yes' else 0)\n",
        "\n",
        "df['pembayaran']= df['pembayaran'].map(\n",
        "    lambda value: 2 if value == 'Credit'\n",
        "    else 1 if value == 'Bank Transfer'\n",
        "    else 0)\n",
        "\n",
        "df['Subscribe_brochure']= df['Subscribe_brochure'].map(\n",
        "    lambda value: 0 if value == 'No'  else 1)\n",
        "\n",
        "df['churn'] = df['churn'].map(\n",
        "    lambda value: 1 if value == 'Yes' else 0)\n",
        "\n",
        "y = df.pop('churn').to_numpy()\n",
        "X = df.to_numpy()\n",
        "\n",
        "from sklearn.model_selection import KFold\n",
        "from sklearn.tree import DecisionTreeClassifier\n",
        "\n",
        "#library yang dapat kita gunakan untuk menghitung nilai Matthews Correlation Coefficient\n",
        "from sklearn.metrics import matthews_corrcoef\n",
        "\n",
        "kf = KFold(n_splits=10, shuffle=True, random_state=12)\n",
        "kf.get_n_splits(X)\n",
        "\n",
        "#variabel untuk menyimpan label ground-truth atau label referensi dari setiap iterasi\n",
        "y_true_all = []\n",
        "\n",
        "#variabel untuk menyimpan label hasil prediksi dari setiap iterasi\n",
        "y_pred_all = []\n",
        "\n",
        "for train_index, test_index in kf.split(X):\n",
        "\tX_train, X_test = X[train_index], X[test_index]\n",
        "\ty_train, y_test = y[train_index], y[test_index]\n",
        "\n",
        "\tmodel = DecisionTreeClassifier(random_state=12)\n",
        "\tmodel.fit(X_train,y_train)\n",
        "\n",
        "\ty_pred = model.predict(X_test)\n",
        "\n",
        "\t#menambahkan label ground_truth ke dalam variabel\n",
        "\ty_true_all.extend(y_test)\n",
        "\t#menambahkan label prediksi ke dalam variabel\n",
        "\ty_pred_all.extend(y_pred)\n",
        "\n",
        "print('Nilai MCC: ', matthews_corrcoef(y_true_all, y_pred_all))"
      ],
      "metadata": {
        "colab": {
          "base_uri": "https://localhost:8080/"
        },
        "id": "o5Bwp86-yGDI",
        "outputId": "93ccd04b-cc8f-444d-bd37-419004e83283"
      },
      "execution_count": 9,
      "outputs": [
        {
          "output_type": "stream",
          "name": "stdout",
          "text": [
            "Nilai MCC:  0.015967295055970186\n"
          ]
        }
      ]
    },
    {
      "cell_type": "markdown",
      "source": [
        "Mini Project: Train dan Test Split"
      ],
      "metadata": {
        "id": "9ehrr-Qny5Md"
      }
    },
    {
      "cell_type": "code",
      "source": [
        "#Kode program sebelumnya\n",
        "import pandas as pd\n",
        "pd.set_option('display.max_column', 20)\n",
        "\n",
        "df = pd.read_excel('https://storage.googleapis.com/dqlab-dataset/cth_churn_analysis_train.xlsx')\n",
        "\n",
        "df.drop('ID_Customer', axis=1, inplace=True)\n",
        "\n",
        "df['Jenis_kelamin']= df['Jenis_kelamin'].map(\n",
        "   lambda value: 1 if value == 'Perempuan' else 0)\n",
        "\n",
        "df['using_reward']= df['using_reward'].map(\n",
        "   lambda value: 1 if value == 'Yes' else 0)\n",
        "\n",
        "df['pembayaran']= df['pembayaran'].map(\n",
        "    lambda value: 2 if value == 'Credit'\n",
        "    else 1 if value == 'Bank Transfer'\n",
        "    else 0)\n",
        "\n",
        "df['Subscribe_brochure']= df['Subscribe_brochure'].map(\n",
        "    lambda value: 0 if value == 'No'  else 1)\n",
        "\n",
        "df['churn'] = df['churn'].map(\n",
        "    lambda value: 1 if value == 'Yes' else 0)\n",
        "\n",
        "y = df.pop('churn').to_numpy()\n",
        "\n",
        "X = df.to_numpy()\n",
        "\n",
        "#fungsi untuk membagi data dan label ke dalam dua bagian (data latih dan data testing) secara acak tersedia dalam library scikit-learn.model_selection\n",
        "from sklearn.model_selection import train_test_split\n",
        "\n",
        "#X_train dan y_train akan kita gunakan sebagai data untuk melatih model X_test dan y_test akan kita gunakan sebagai data testing untuk mengetahui kemampuan model untuk data yang belum pernah ia jumpai\n",
        "X_train, X_test, y_train, y_test = train_test_split(X, y, test_size=0.1, random_state=12)\n",
        "\n",
        "from sklearn.tree import DecisionTreeClassifier\n",
        "\n",
        "model = DecisionTreeClassifier(random_state=12)\n",
        "\n",
        "#melatih model berdasarkan data latih (X_train) dan labelnya (y_train)\n",
        "model.fit(X_train,y_train)\n",
        "\n",
        "#melakukan prediksi terhadap setiap data testing (X_test) dan menyimpan hasil prediksi dalam array 'y_pred'\n",
        "y_pred = model.predict(X_test)\n",
        "\n",
        "#mengimport fungsi untuk menghitung akurasi dari library scikit-learn tepatnya dari modul metrics.\n",
        "from sklearn.metrics import accuracy_score\n",
        "\n",
        "#menghitung nilai akurasi dari hasil prediksi (y_pred) dengan label aktual yang dimiliki oleh setiap data test (y_test)\n",
        "score = accuracy_score(y_test,y_pred)\n",
        "\n",
        "#menampilkan hasil akurasi dalam persen\n",
        "print('Hasil akurasi model: %.2f %%' % (100*score))"
      ],
      "metadata": {
        "colab": {
          "base_uri": "https://localhost:8080/"
        },
        "id": "CaWXquZby8hw",
        "outputId": "8734dbab-c64b-4dd9-f2dc-963e1e949503"
      },
      "execution_count": 10,
      "outputs": [
        {
          "output_type": "stream",
          "name": "stdout",
          "text": [
            "Hasil akurasi model: 56.00 %\n"
          ]
        }
      ]
    },
    {
      "cell_type": "markdown",
      "source": [
        "Mini Project: K-Fold Cross Validation"
      ],
      "metadata": {
        "id": "8t_r3-PP0lQo"
      }
    },
    {
      "cell_type": "code",
      "source": [
        "#Kode program sebelumnya\n",
        "import pandas as pd\n",
        "pd.set_option('display.max_column', 20)\n",
        "\n",
        "df = pd.read_excel('https://storage.googleapis.com/dqlab-dataset/cth_churn_analysis_train.xlsx')\n",
        "\n",
        "df.drop('ID_Customer', axis=1, inplace=True)\n",
        "\n",
        "df['Jenis_kelamin']= df['Jenis_kelamin'].map(\n",
        "   lambda value: 1 if value == 'Perempuan' else 0)\n",
        "\n",
        "df['using_reward']= df['using_reward'].map(\n",
        "   lambda value: 1 if value == 'Yes' else 0)\n",
        "\n",
        "df['pembayaran']= df['pembayaran'].map(\n",
        "    lambda value: 2 if value == 'Credit'\n",
        "    else 1 if value == 'Bank Transfer'\n",
        "    else 0)\n",
        "\n",
        "df['Subscribe_brochure']= df['Subscribe_brochure'].map(\n",
        "    lambda value: 0 if value == 'No'  else 1)\n",
        "\n",
        "df['churn'] = df['churn'].map(\n",
        "    lambda value: 1 if value == 'Yes' else 0)\n",
        "\n",
        "y = df.pop('churn').to_numpy()\n",
        "X = df.to_numpy()\n",
        "\n",
        "#mengimport fungsi K-Fold dari modul model_selection pada library scikit-learn\n",
        "from sklearn.model_selection import KFold\n",
        "\n",
        "from sklearn.tree import DecisionTreeClassifier\n",
        "from sklearn.metrics import accuracy_score\n",
        "\n",
        "#men-set nilai K = 20\n",
        "kf = KFold(n_splits= 20, shuffle=True,random_state = 12)\n",
        "\n",
        "#menyesuaikan nilai K dengan jumlah data pada variabel X\n",
        "kf.get_n_splits(X)\n",
        "\n",
        "total_score = 0\n",
        "\n",
        "#mengulangi proses pelatihan dan evaluasi pada setiap kelompok data yang telah dibagi melalui object KFold\n",
        "for train_index, test_index in kf.split(X):\n",
        "\tX_train, X_test = X[train_index], X[test_index]\n",
        "\ty_train, y_test = y[train_index], y[test_index]\n",
        "\tmodel = DecisionTreeClassifier(random_state=12)\n",
        "\tmodel.fit(X_train,y_train)\n",
        "\n",
        "\ty_pred = model.predict(X_test)\n",
        "\tscore = accuracy_score(y_test,y_pred)\n",
        "\n",
        "\ttotal_score += score\n",
        "\tprint('Hasil akurasi model: %.2f %%' % (100*score))\n",
        "\n",
        "print('\\nRata-rata akurasi model: %.2f %%' % (100*total_score/20))"
      ],
      "metadata": {
        "colab": {
          "base_uri": "https://localhost:8080/"
        },
        "id": "4p6uzar20mL2",
        "outputId": "7ed913c7-2f6d-4d5d-beaa-7d2b36b50ea2"
      },
      "execution_count": 11,
      "outputs": [
        {
          "output_type": "stream",
          "name": "stdout",
          "text": [
            "Hasil akurasi model: 40.00 %\n",
            "Hasil akurasi model: 44.00 %\n",
            "Hasil akurasi model: 56.00 %\n",
            "Hasil akurasi model: 64.00 %\n",
            "Hasil akurasi model: 56.00 %\n",
            "Hasil akurasi model: 40.00 %\n",
            "Hasil akurasi model: 40.00 %\n",
            "Hasil akurasi model: 32.00 %\n",
            "Hasil akurasi model: 68.00 %\n",
            "Hasil akurasi model: 40.00 %\n",
            "Hasil akurasi model: 48.00 %\n",
            "Hasil akurasi model: 52.00 %\n",
            "Hasil akurasi model: 64.00 %\n",
            "Hasil akurasi model: 28.00 %\n",
            "Hasil akurasi model: 36.00 %\n",
            "Hasil akurasi model: 60.00 %\n",
            "Hasil akurasi model: 68.00 %\n",
            "Hasil akurasi model: 48.00 %\n",
            "Hasil akurasi model: 56.00 %\n",
            "Hasil akurasi model: 54.17 %\n",
            "\n",
            "Rata-rata akurasi model: 49.71 %\n"
          ]
        }
      ]
    }
  ]
}